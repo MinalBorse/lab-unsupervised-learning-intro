{
 "cells": [
  {
   "cell_type": "code",
   "execution_count": 8,
   "id": "1db41274",
   "metadata": {},
   "outputs": [
    {
     "name": "stdout",
     "output_type": "stream",
     "text": [
      "Requirement already satisfied: spotipy in c:\\programdata\\anaconda3\\lib\\site-packages (2.19.0)\n",
      "Requirement already satisfied: urllib3>=1.26.0 in c:\\programdata\\anaconda3\\lib\\site-packages (from spotipy) (1.26.4)\n",
      "Requirement already satisfied: six>=1.15.0 in c:\\programdata\\anaconda3\\lib\\site-packages (from spotipy) (1.15.0)\n",
      "Requirement already satisfied: requests>=2.25.0 in c:\\programdata\\anaconda3\\lib\\site-packages (from spotipy) (2.25.1)\n",
      "Requirement already satisfied: idna<3,>=2.5 in c:\\programdata\\anaconda3\\lib\\site-packages (from requests>=2.25.0->spotipy) (2.10)\n",
      "Requirement already satisfied: certifi>=2017.4.17 in c:\\programdata\\anaconda3\\lib\\site-packages (from requests>=2.25.0->spotipy) (2020.12.5)\n",
      "Requirement already satisfied: chardet<5,>=3.0.2 in c:\\programdata\\anaconda3\\lib\\site-packages (from requests>=2.25.0->spotipy) (4.0.0)\n"
     ]
    }
   ],
   "source": [
    "!pip install spotipy"
   ]
  },
  {
   "cell_type": "code",
   "execution_count": 9,
   "id": "8e1afc30",
   "metadata": {},
   "outputs": [],
   "source": [
    "import spotipy\n",
    "from spotipy.oauth2 import SpotifyClientCredentials"
   ]
  },
  {
   "cell_type": "code",
   "execution_count": 10,
   "id": "cdc9017d",
   "metadata": {},
   "outputs": [],
   "source": [
    "import warnings\n",
    "import pandas as pd\n",
    "import numpy as np\n",
    "import matplotlib.pyplot as plt\n",
    "import seaborn as sns\n",
    "from mpl_toolkits.mplot3d import Axes3D\n",
    "from math import pi, ceil\n",
    "from sklearn.cluster import KMeans\n",
    "from sklearn.preprocessing import StandardScaler, MinMaxScaler\n",
    "from sklearn.manifold import TSNE\n",
    "from sklearn.decomposition import PCA\n",
    "from sklearn.metrics import silhouette_score\n",
    "from sklearn import cluster, datasets\n",
    "from sklearn.preprocessing import StandardScaler\n",
    "from matplotlib.lines import Line2D\n",
    "#from diversify.session import SpotifySession"
   ]
  },
  {
   "cell_type": "code",
   "execution_count": 11,
   "id": "079e94e2",
   "metadata": {},
   "outputs": [],
   "source": [
    "\n",
    "#Initialize SpotiPy with user credentials\n",
    "sp = spotipy.Spotify(auth_manager=SpotifyClientCredentials(client_id='88d5f9f8717f4ddcae5b8eb5b7e66581',\n",
    "                                                           client_secret='f9cee08b9abd4b5b87cba994229eeb73'))"
   ]
  },
  {
   "cell_type": "code",
   "execution_count": 12,
   "id": "87fbb854",
   "metadata": {},
   "outputs": [],
   "source": [
    "# we will need more songs for our clustering\n",
    "#this is the playlist of previous cohorts\n",
    "playlist = sp.user_playlist_tracks(\"spotify\", \"0BUNSGihi2mrhQu3fPcVim\")"
   ]
  },
  {
   "cell_type": "code",
   "execution_count": 13,
   "id": "5b3b1fbb",
   "metadata": {},
   "outputs": [
    {
     "data": {
      "text/plain": [
       "dict_keys(['href', 'items', 'limit', 'next', 'offset', 'previous', 'total'])"
      ]
     },
     "execution_count": 13,
     "metadata": {},
     "output_type": "execute_result"
    }
   ],
   "source": [
    "playlist.keys()"
   ]
  },
  {
   "cell_type": "code",
   "execution_count": 14,
   "id": "4972798f",
   "metadata": {},
   "outputs": [
    {
     "data": {
      "text/plain": [
       "'Rainbow Connection'"
      ]
     },
     "execution_count": 14,
     "metadata": {},
     "output_type": "execute_result"
    }
   ],
   "source": [
    "# checking the track names from playlist\n",
    "playlist[\"items\"][0][\"track\"][\"name\"]"
   ]
  },
  {
   "cell_type": "code",
   "execution_count": 15,
   "id": "820948db",
   "metadata": {},
   "outputs": [],
   "source": [
    "#''' What we need:\n",
    "# 1) Get Playlist [x]\n",
    "# 2) Get artist name from each song of the playlist\n",
    "# 3) Get all albums from each of the artists\n",
    "# 4) Get all songs from each of the albums\n",
    " #5) Get URI's for all the songs\n"
   ]
  },
  {
   "cell_type": "code",
   "execution_count": 16,
   "id": "0da4e577",
   "metadata": {},
   "outputs": [],
   "source": [
    "# we will need more songs for our clustering\n",
    "#this is the playlist of previous cohorts\n",
    "playlist = sp.user_playlist_tracks(\"spotify\", \"0BUNSGihi2mrhQu3fPcVim\")\n",
    " \n"
   ]
  },
  {
   "cell_type": "code",
   "execution_count": 17,
   "id": "0ee28722",
   "metadata": {},
   "outputs": [
    {
     "data": {
      "text/plain": [
       "815"
      ]
     },
     "execution_count": 17,
     "metadata": {},
     "output_type": "execute_result"
    }
   ],
   "source": [
    "playlist[\"total\"] # total no of songs"
   ]
  },
  {
   "cell_type": "code",
   "execution_count": 18,
   "id": "98c7f28c",
   "metadata": {},
   "outputs": [
    {
     "data": {
      "text/plain": [
       "100"
      ]
     },
     "execution_count": 18,
     "metadata": {},
     "output_type": "execute_result"
    }
   ],
   "source": [
    "# It is limited to 100 tracks, we will have to fix it:\n",
    "len(playlist[\"items\"])"
   ]
  },
  {
   "cell_type": "code",
   "execution_count": 19,
   "id": "d05f3803",
   "metadata": {},
   "outputs": [
    {
     "data": {
      "text/plain": [
       "'https://api.spotify.com/v1/playlists/0BUNSGihi2mrhQu3fPcVim/tracks?offset=100&limit=100&additional_types=track'"
      ]
     },
     "execution_count": 19,
     "metadata": {},
     "output_type": "execute_result"
    }
   ],
   "source": [
    "playlist['next']"
   ]
  },
  {
   "cell_type": "code",
   "execution_count": 20,
   "id": "e6c0718d",
   "metadata": {},
   "outputs": [
    {
     "data": {
      "text/plain": [
       "'https://api.spotify.com/v1/playlists/0BUNSGihi2mrhQu3fPcVim/tracks?offset=100&limit=100&additional_types=track'"
      ]
     },
     "execution_count": 20,
     "metadata": {},
     "output_type": "execute_result"
    }
   ],
   "source": [
    "playlist['next']"
   ]
  },
  {
   "cell_type": "code",
   "execution_count": 21,
   "id": "5c9e05b4",
   "metadata": {},
   "outputs": [],
   "source": [
    "#sp.next(playlist)"
   ]
  },
  {
   "cell_type": "code",
   "execution_count": 22,
   "id": "34915e10",
   "metadata": {},
   "outputs": [],
   "source": [
    "#  Importing all thes tracks from spotify api playlist\n",
    "from random import randint\n",
    "from time import sleep\n",
    "\n",
    "def get_playlist_tracks(playlist_id):\n",
    "    results = sp.user_playlist_tracks(\"spotify\",playlist_id)\n",
    "    tracks = results['items']\n",
    "    while results['next']!=None:\n",
    "        results = sp.next(results)\n",
    "        tracks = tracks + results['items']\n",
    "        sleep(randint(1,3))\n",
    "    return tracks"
   ]
  },
  {
   "cell_type": "code",
   "execution_count": 23,
   "id": "15d22607",
   "metadata": {},
   "outputs": [
    {
     "data": {
      "text/plain": [
       "815"
      ]
     },
     "execution_count": 23,
     "metadata": {},
     "output_type": "execute_result"
    }
   ],
   "source": [
    "# this will take at least around num_songs_in_playlist * (avg_sleep_time + processing_time) = 53 * (2+0.1) = 110 seconds\n",
    "\n",
    "all_tracks = get_playlist_tracks(\"0BUNSGihi2mrhQu3fPcVim\")\n",
    "len(all_tracks)"
   ]
  },
  {
   "cell_type": "code",
   "execution_count": 24,
   "id": "fa6cd220",
   "metadata": {},
   "outputs": [],
   "source": [
    "# getting all track uris \n",
    "def uri(all_tracks):\n",
    "    uri=[all_tracks[i]['track']['uri'] for i in range(len(all_tracks))]\n",
    "    return uri\n",
    "all_uri = uri(all_tracks)"
   ]
  },
  {
   "cell_type": "code",
   "execution_count": 25,
   "id": "eb9b600f",
   "metadata": {},
   "outputs": [],
   "source": [
    "import pandas as pd\n",
    "complete_all_uri = pd.DataFrame(all_uri, columns=['uri'])"
   ]
  },
  {
   "cell_type": "code",
   "execution_count": 26,
   "id": "08b2aa66",
   "metadata": {},
   "outputs": [
    {
     "data": {
      "text/plain": [
       "(815, 1)"
      ]
     },
     "execution_count": 26,
     "metadata": {},
     "output_type": "execute_result"
    }
   ],
   "source": [
    "complete_all_uri.shape"
   ]
  },
  {
   "cell_type": "code",
   "execution_count": 27,
   "id": "76141549",
   "metadata": {},
   "outputs": [],
   "source": [
    "# getting all artists\n",
    "def artists(all_tracks):\n",
    "    artist=[all_tracks[i]['track']['artists'][0]['name'] for i in range(len(all_tracks))]\n",
    "    return artist\n",
    "all_artists = artists(all_tracks)"
   ]
  },
  {
   "cell_type": "code",
   "execution_count": 28,
   "id": "88524301",
   "metadata": {},
   "outputs": [],
   "source": [
    "complete_all_artists= pd.DataFrame(all_artists, columns=['artist'])\n",
    "# complete_all_artists"
   ]
  },
  {
   "cell_type": "code",
   "execution_count": 29,
   "id": "8c9f693c",
   "metadata": {},
   "outputs": [],
   "source": [
    "# getting all track names\n",
    "def track_names(all_tracks):\n",
    "    names=[all_tracks[i]['track']['name'] for i in range(len(all_tracks))]\n",
    "    return names\n",
    "all_track_names = track_names(all_tracks)"
   ]
  },
  {
   "cell_type": "code",
   "execution_count": 30,
   "id": "9715f711",
   "metadata": {},
   "outputs": [],
   "source": [
    "complete_track_names= pd.DataFrame(all_track_names, columns=['album'])\n",
    "# complete_track_names"
   ]
  },
  {
   "cell_type": "code",
   "execution_count": 31,
   "id": "9d18d283",
   "metadata": {},
   "outputs": [],
   "source": [
    "# getting audio features for all the tracks\n",
    "audio_features = [sp.audio_features(i) for i in (all_uri)]"
   ]
  },
  {
   "cell_type": "code",
   "execution_count": 32,
   "id": "989a8b6e",
   "metadata": {},
   "outputs": [],
   "source": [
    "def flatten(input_list):\n",
    "    return [item for sublist in input_list for item in sublist]"
   ]
  },
  {
   "cell_type": "code",
   "execution_count": 33,
   "id": "f1283b2e",
   "metadata": {},
   "outputs": [],
   "source": [
    "# flattening audio features \n",
    "features_new = flatten(audio_features)"
   ]
  },
  {
   "cell_type": "code",
   "execution_count": 34,
   "id": "613f8bc6",
   "metadata": {},
   "outputs": [],
   "source": [
    "danceability = [features_new[i]['danceability'] for i in range(len(features_new))]\n",
    "energy = [features_new[i]['energy'] for i in range(len(features_new))]\n",
    "key = [features_new[i]['key'] for i in range(len(features_new))]\n",
    "loudness = [features_new[i]['loudness'] for i in range(len(features_new))]\n",
    "mode = [features_new[i]['mode'] for i in range(len(features_new))]\n",
    "speechiness = [features_new[i]['speechiness'] for i in range(len(features_new))]\n",
    "acousticness = [features_new[i]['acousticness'] for i in range(len(features_new))]\n",
    "instrumentalness = [features_new[i]['instrumentalness'] for i in range(len(features_new))]\n",
    "liveness = [features_new[i]['liveness'] for i in range(len(features_new))]\n",
    "valence = [features_new[i]['valence'] for i in range(len(features_new))]\n",
    "tempo = [features_new[i]['tempo'] for i in range(len(features_new))]"
   ]
  },
  {
   "cell_type": "code",
   "execution_count": 35,
   "id": "74a2bfad",
   "metadata": {},
   "outputs": [],
   "source": [
    "# audio features in a data frame\n",
    "complete_features = pd.DataFrame.from_dict({'danceability':danceability, 'energy':energy, 'key':key, 'loudness':loudness, 'mode':mode, 'speechiness':speechiness, 'acousticness':acousticness, 'instrumentalness':instrumentalness, 'liveness':liveness, 'valence':valence, 'tempo':tempo})\n",
    "# complete_features"
   ]
  },
  {
   "cell_type": "code",
   "execution_count": 36,
   "id": "68be4d37",
   "metadata": {},
   "outputs": [
    {
     "data": {
      "text/html": [
       "<div>\n",
       "<style scoped>\n",
       "    .dataframe tbody tr th:only-of-type {\n",
       "        vertical-align: middle;\n",
       "    }\n",
       "\n",
       "    .dataframe tbody tr th {\n",
       "        vertical-align: top;\n",
       "    }\n",
       "\n",
       "    .dataframe thead th {\n",
       "        text-align: right;\n",
       "    }\n",
       "</style>\n",
       "<table border=\"1\" class=\"dataframe\">\n",
       "  <thead>\n",
       "    <tr style=\"text-align: right;\">\n",
       "      <th></th>\n",
       "      <th>danceability</th>\n",
       "      <th>energy</th>\n",
       "      <th>key</th>\n",
       "      <th>loudness</th>\n",
       "      <th>mode</th>\n",
       "      <th>speechiness</th>\n",
       "      <th>acousticness</th>\n",
       "      <th>instrumentalness</th>\n",
       "      <th>liveness</th>\n",
       "      <th>valence</th>\n",
       "      <th>tempo</th>\n",
       "    </tr>\n",
       "  </thead>\n",
       "  <tbody>\n",
       "    <tr>\n",
       "      <th>0</th>\n",
       "      <td>0.526</td>\n",
       "      <td>0.413</td>\n",
       "      <td>9</td>\n",
       "      <td>-7.674</td>\n",
       "      <td>1</td>\n",
       "      <td>0.0278</td>\n",
       "      <td>0.42800</td>\n",
       "      <td>0.000000</td>\n",
       "      <td>0.1260</td>\n",
       "      <td>0.211</td>\n",
       "      <td>115.936</td>\n",
       "    </tr>\n",
       "    <tr>\n",
       "      <th>1</th>\n",
       "      <td>0.663</td>\n",
       "      <td>0.168</td>\n",
       "      <td>0</td>\n",
       "      <td>-13.725</td>\n",
       "      <td>1</td>\n",
       "      <td>0.0448</td>\n",
       "      <td>0.92800</td>\n",
       "      <td>0.000057</td>\n",
       "      <td>0.3610</td>\n",
       "      <td>0.678</td>\n",
       "      <td>85.005</td>\n",
       "    </tr>\n",
       "    <tr>\n",
       "      <th>2</th>\n",
       "      <td>0.422</td>\n",
       "      <td>0.878</td>\n",
       "      <td>5</td>\n",
       "      <td>-4.863</td>\n",
       "      <td>1</td>\n",
       "      <td>0.0442</td>\n",
       "      <td>0.00935</td>\n",
       "      <td>0.332000</td>\n",
       "      <td>0.2010</td>\n",
       "      <td>0.496</td>\n",
       "      <td>84.044</td>\n",
       "    </tr>\n",
       "    <tr>\n",
       "      <th>3</th>\n",
       "      <td>0.821</td>\n",
       "      <td>0.676</td>\n",
       "      <td>3</td>\n",
       "      <td>-6.366</td>\n",
       "      <td>0</td>\n",
       "      <td>0.0547</td>\n",
       "      <td>0.18700</td>\n",
       "      <td>0.000100</td>\n",
       "      <td>0.0927</td>\n",
       "      <td>0.559</td>\n",
       "      <td>119.012</td>\n",
       "    </tr>\n",
       "    <tr>\n",
       "      <th>4</th>\n",
       "      <td>0.388</td>\n",
       "      <td>0.327</td>\n",
       "      <td>5</td>\n",
       "      <td>-12.522</td>\n",
       "      <td>1</td>\n",
       "      <td>0.0317</td>\n",
       "      <td>0.73200</td>\n",
       "      <td>0.001030</td>\n",
       "      <td>0.1500</td>\n",
       "      <td>0.222</td>\n",
       "      <td>107.894</td>\n",
       "    </tr>\n",
       "    <tr>\n",
       "      <th>...</th>\n",
       "      <td>...</td>\n",
       "      <td>...</td>\n",
       "      <td>...</td>\n",
       "      <td>...</td>\n",
       "      <td>...</td>\n",
       "      <td>...</td>\n",
       "      <td>...</td>\n",
       "      <td>...</td>\n",
       "      <td>...</td>\n",
       "      <td>...</td>\n",
       "      <td>...</td>\n",
       "    </tr>\n",
       "    <tr>\n",
       "      <th>810</th>\n",
       "      <td>0.569</td>\n",
       "      <td>0.367</td>\n",
       "      <td>5</td>\n",
       "      <td>-5.178</td>\n",
       "      <td>1</td>\n",
       "      <td>0.0878</td>\n",
       "      <td>0.86200</td>\n",
       "      <td>0.000155</td>\n",
       "      <td>0.3370</td>\n",
       "      <td>0.823</td>\n",
       "      <td>169.768</td>\n",
       "    </tr>\n",
       "    <tr>\n",
       "      <th>811</th>\n",
       "      <td>0.732</td>\n",
       "      <td>0.764</td>\n",
       "      <td>10</td>\n",
       "      <td>-6.503</td>\n",
       "      <td>0</td>\n",
       "      <td>0.0631</td>\n",
       "      <td>0.16200</td>\n",
       "      <td>0.346000</td>\n",
       "      <td>0.3220</td>\n",
       "      <td>0.685</td>\n",
       "      <td>132.019</td>\n",
       "    </tr>\n",
       "    <tr>\n",
       "      <th>812</th>\n",
       "      <td>0.308</td>\n",
       "      <td>0.376</td>\n",
       "      <td>4</td>\n",
       "      <td>-15.240</td>\n",
       "      <td>1</td>\n",
       "      <td>0.0626</td>\n",
       "      <td>0.11600</td>\n",
       "      <td>0.000003</td>\n",
       "      <td>0.1660</td>\n",
       "      <td>0.158</td>\n",
       "      <td>186.047</td>\n",
       "    </tr>\n",
       "    <tr>\n",
       "      <th>813</th>\n",
       "      <td>0.536</td>\n",
       "      <td>0.642</td>\n",
       "      <td>5</td>\n",
       "      <td>-6.479</td>\n",
       "      <td>0</td>\n",
       "      <td>0.0434</td>\n",
       "      <td>0.06400</td>\n",
       "      <td>0.356000</td>\n",
       "      <td>0.1050</td>\n",
       "      <td>0.193</td>\n",
       "      <td>138.914</td>\n",
       "    </tr>\n",
       "    <tr>\n",
       "      <th>814</th>\n",
       "      <td>0.689</td>\n",
       "      <td>0.660</td>\n",
       "      <td>7</td>\n",
       "      <td>-9.097</td>\n",
       "      <td>0</td>\n",
       "      <td>0.0316</td>\n",
       "      <td>0.06100</td>\n",
       "      <td>0.890000</td>\n",
       "      <td>0.2010</td>\n",
       "      <td>0.274</td>\n",
       "      <td>120.003</td>\n",
       "    </tr>\n",
       "  </tbody>\n",
       "</table>\n",
       "<p>815 rows × 11 columns</p>\n",
       "</div>"
      ],
      "text/plain": [
       "     danceability  energy  key  loudness  mode  speechiness  acousticness  \\\n",
       "0           0.526   0.413    9    -7.674     1       0.0278       0.42800   \n",
       "1           0.663   0.168    0   -13.725     1       0.0448       0.92800   \n",
       "2           0.422   0.878    5    -4.863     1       0.0442       0.00935   \n",
       "3           0.821   0.676    3    -6.366     0       0.0547       0.18700   \n",
       "4           0.388   0.327    5   -12.522     1       0.0317       0.73200   \n",
       "..            ...     ...  ...       ...   ...          ...           ...   \n",
       "810         0.569   0.367    5    -5.178     1       0.0878       0.86200   \n",
       "811         0.732   0.764   10    -6.503     0       0.0631       0.16200   \n",
       "812         0.308   0.376    4   -15.240     1       0.0626       0.11600   \n",
       "813         0.536   0.642    5    -6.479     0       0.0434       0.06400   \n",
       "814         0.689   0.660    7    -9.097     0       0.0316       0.06100   \n",
       "\n",
       "     instrumentalness  liveness  valence    tempo  \n",
       "0            0.000000    0.1260    0.211  115.936  \n",
       "1            0.000057    0.3610    0.678   85.005  \n",
       "2            0.332000    0.2010    0.496   84.044  \n",
       "3            0.000100    0.0927    0.559  119.012  \n",
       "4            0.001030    0.1500    0.222  107.894  \n",
       "..                ...       ...      ...      ...  \n",
       "810          0.000155    0.3370    0.823  169.768  \n",
       "811          0.346000    0.3220    0.685  132.019  \n",
       "812          0.000003    0.1660    0.158  186.047  \n",
       "813          0.356000    0.1050    0.193  138.914  \n",
       "814          0.890000    0.2010    0.274  120.003  \n",
       "\n",
       "[815 rows x 11 columns]"
      ]
     },
     "execution_count": 36,
     "metadata": {},
     "output_type": "execute_result"
    }
   ],
   "source": [
    "complete_features"
   ]
  },
  {
   "cell_type": "code",
   "execution_count": 37,
   "id": "a922ba6f",
   "metadata": {},
   "outputs": [
    {
     "data": {
      "text/html": [
       "<div>\n",
       "<style scoped>\n",
       "    .dataframe tbody tr th:only-of-type {\n",
       "        vertical-align: middle;\n",
       "    }\n",
       "\n",
       "    .dataframe tbody tr th {\n",
       "        vertical-align: top;\n",
       "    }\n",
       "\n",
       "    .dataframe thead th {\n",
       "        text-align: right;\n",
       "    }\n",
       "</style>\n",
       "<table border=\"1\" class=\"dataframe\">\n",
       "  <thead>\n",
       "    <tr style=\"text-align: right;\">\n",
       "      <th></th>\n",
       "      <th>album</th>\n",
       "      <th>artist</th>\n",
       "      <th>uri</th>\n",
       "      <th>danceability</th>\n",
       "      <th>energy</th>\n",
       "      <th>key</th>\n",
       "      <th>loudness</th>\n",
       "      <th>mode</th>\n",
       "      <th>speechiness</th>\n",
       "      <th>acousticness</th>\n",
       "      <th>instrumentalness</th>\n",
       "      <th>liveness</th>\n",
       "      <th>valence</th>\n",
       "      <th>tempo</th>\n",
       "    </tr>\n",
       "  </thead>\n",
       "  <tbody>\n",
       "    <tr>\n",
       "      <th>0</th>\n",
       "      <td>Rainbow Connection</td>\n",
       "      <td>The Muppets</td>\n",
       "      <td>spotify:track:1SJ4ycWow4yz6z4oFz8NAG</td>\n",
       "      <td>0.526</td>\n",
       "      <td>0.413</td>\n",
       "      <td>9</td>\n",
       "      <td>-7.674</td>\n",
       "      <td>1</td>\n",
       "      <td>0.0278</td>\n",
       "      <td>0.42800</td>\n",
       "      <td>0.000000</td>\n",
       "      <td>0.1260</td>\n",
       "      <td>0.211</td>\n",
       "      <td>115.936</td>\n",
       "    </tr>\n",
       "    <tr>\n",
       "      <th>1</th>\n",
       "      <td>Somewhere Over The Rainbow_What A Wonderful World</td>\n",
       "      <td>Israel Kamakawiwo'ole</td>\n",
       "      <td>spotify:track:25U7raB3ZSszayTYClh4hF</td>\n",
       "      <td>0.663</td>\n",
       "      <td>0.168</td>\n",
       "      <td>0</td>\n",
       "      <td>-13.725</td>\n",
       "      <td>1</td>\n",
       "      <td>0.0448</td>\n",
       "      <td>0.92800</td>\n",
       "      <td>0.000057</td>\n",
       "      <td>0.3610</td>\n",
       "      <td>0.678</td>\n",
       "      <td>85.005</td>\n",
       "    </tr>\n",
       "    <tr>\n",
       "      <th>2</th>\n",
       "      <td>What a Wonderful World</td>\n",
       "      <td>Joey Ramone</td>\n",
       "      <td>spotify:track:04cdEVbQPb8BJb7593e5fO</td>\n",
       "      <td>0.422</td>\n",
       "      <td>0.878</td>\n",
       "      <td>5</td>\n",
       "      <td>-4.863</td>\n",
       "      <td>1</td>\n",
       "      <td>0.0442</td>\n",
       "      <td>0.00935</td>\n",
       "      <td>0.332000</td>\n",
       "      <td>0.2010</td>\n",
       "      <td>0.496</td>\n",
       "      <td>84.044</td>\n",
       "    </tr>\n",
       "    <tr>\n",
       "      <th>3</th>\n",
       "      <td>One Day / Reckoning Song (Wankelmut Remix) [Ra...</td>\n",
       "      <td>Asaf Avidan &amp; the Mojos</td>\n",
       "      <td>spotify:track:5HSkycOEtb9iQ7cg1Oyqmu</td>\n",
       "      <td>0.821</td>\n",
       "      <td>0.676</td>\n",
       "      <td>3</td>\n",
       "      <td>-6.366</td>\n",
       "      <td>0</td>\n",
       "      <td>0.0547</td>\n",
       "      <td>0.18700</td>\n",
       "      <td>0.000100</td>\n",
       "      <td>0.0927</td>\n",
       "      <td>0.559</td>\n",
       "      <td>119.012</td>\n",
       "    </tr>\n",
       "    <tr>\n",
       "      <th>4</th>\n",
       "      <td>What A Wonderful World - Single Version</td>\n",
       "      <td>Louis Armstrong</td>\n",
       "      <td>spotify:track:2pp3RfqX5cb1BAnmNi4Nej</td>\n",
       "      <td>0.388</td>\n",
       "      <td>0.327</td>\n",
       "      <td>5</td>\n",
       "      <td>-12.522</td>\n",
       "      <td>1</td>\n",
       "      <td>0.0317</td>\n",
       "      <td>0.73200</td>\n",
       "      <td>0.001030</td>\n",
       "      <td>0.1500</td>\n",
       "      <td>0.222</td>\n",
       "      <td>107.894</td>\n",
       "    </tr>\n",
       "    <tr>\n",
       "      <th>...</th>\n",
       "      <td>...</td>\n",
       "      <td>...</td>\n",
       "      <td>...</td>\n",
       "      <td>...</td>\n",
       "      <td>...</td>\n",
       "      <td>...</td>\n",
       "      <td>...</td>\n",
       "      <td>...</td>\n",
       "      <td>...</td>\n",
       "      <td>...</td>\n",
       "      <td>...</td>\n",
       "      <td>...</td>\n",
       "      <td>...</td>\n",
       "      <td>...</td>\n",
       "    </tr>\n",
       "    <tr>\n",
       "      <th>810</th>\n",
       "      <td>The Loophole</td>\n",
       "      <td>Garfunkel and Oates</td>\n",
       "      <td>spotify:track:6B89ADIwxCw60PHZN6Kdp4</td>\n",
       "      <td>0.569</td>\n",
       "      <td>0.367</td>\n",
       "      <td>5</td>\n",
       "      <td>-5.178</td>\n",
       "      <td>1</td>\n",
       "      <td>0.0878</td>\n",
       "      <td>0.86200</td>\n",
       "      <td>0.000155</td>\n",
       "      <td>0.3370</td>\n",
       "      <td>0.823</td>\n",
       "      <td>169.768</td>\n",
       "    </tr>\n",
       "    <tr>\n",
       "      <th>811</th>\n",
       "      <td>Major Tom (Coming Home) - Adam K &amp; Soha Radio ...</td>\n",
       "      <td>Shiny Toy Guns</td>\n",
       "      <td>spotify:track:7nXXIXFSyDDPlfzCW9bdAa</td>\n",
       "      <td>0.732</td>\n",
       "      <td>0.764</td>\n",
       "      <td>10</td>\n",
       "      <td>-6.503</td>\n",
       "      <td>0</td>\n",
       "      <td>0.0631</td>\n",
       "      <td>0.16200</td>\n",
       "      <td>0.346000</td>\n",
       "      <td>0.3220</td>\n",
       "      <td>0.685</td>\n",
       "      <td>132.019</td>\n",
       "    </tr>\n",
       "    <tr>\n",
       "      <th>812</th>\n",
       "      <td>The Wreck of the Edmund Fitzgerald</td>\n",
       "      <td>Gordon Lightfoot</td>\n",
       "      <td>spotify:track:536L9C0N7vhYdibCJx3cI2</td>\n",
       "      <td>0.308</td>\n",
       "      <td>0.376</td>\n",
       "      <td>4</td>\n",
       "      <td>-15.240</td>\n",
       "      <td>1</td>\n",
       "      <td>0.0626</td>\n",
       "      <td>0.11600</td>\n",
       "      <td>0.000003</td>\n",
       "      <td>0.1660</td>\n",
       "      <td>0.158</td>\n",
       "      <td>186.047</td>\n",
       "    </tr>\n",
       "    <tr>\n",
       "      <th>813</th>\n",
       "      <td>Fortune Soul</td>\n",
       "      <td>Blackmill</td>\n",
       "      <td>spotify:track:2eTjkXxxssJeR3u586CMkI</td>\n",
       "      <td>0.536</td>\n",
       "      <td>0.642</td>\n",
       "      <td>5</td>\n",
       "      <td>-6.479</td>\n",
       "      <td>0</td>\n",
       "      <td>0.0434</td>\n",
       "      <td>0.06400</td>\n",
       "      <td>0.356000</td>\n",
       "      <td>0.1050</td>\n",
       "      <td>0.193</td>\n",
       "      <td>138.914</td>\n",
       "    </tr>\n",
       "    <tr>\n",
       "      <th>814</th>\n",
       "      <td>Deep Breath</td>\n",
       "      <td>Kaleidoscope Jukebox</td>\n",
       "      <td>spotify:track:5gTS2Wd3sVesApuhRwmAeP</td>\n",
       "      <td>0.689</td>\n",
       "      <td>0.660</td>\n",
       "      <td>7</td>\n",
       "      <td>-9.097</td>\n",
       "      <td>0</td>\n",
       "      <td>0.0316</td>\n",
       "      <td>0.06100</td>\n",
       "      <td>0.890000</td>\n",
       "      <td>0.2010</td>\n",
       "      <td>0.274</td>\n",
       "      <td>120.003</td>\n",
       "    </tr>\n",
       "  </tbody>\n",
       "</table>\n",
       "<p>815 rows × 14 columns</p>\n",
       "</div>"
      ],
      "text/plain": [
       "                                                 album  \\\n",
       "0                                   Rainbow Connection   \n",
       "1    Somewhere Over The Rainbow_What A Wonderful World   \n",
       "2                               What a Wonderful World   \n",
       "3    One Day / Reckoning Song (Wankelmut Remix) [Ra...   \n",
       "4              What A Wonderful World - Single Version   \n",
       "..                                                 ...   \n",
       "810                                       The Loophole   \n",
       "811  Major Tom (Coming Home) - Adam K & Soha Radio ...   \n",
       "812                 The Wreck of the Edmund Fitzgerald   \n",
       "813                                       Fortune Soul   \n",
       "814                                        Deep Breath   \n",
       "\n",
       "                      artist                                   uri  \\\n",
       "0                The Muppets  spotify:track:1SJ4ycWow4yz6z4oFz8NAG   \n",
       "1      Israel Kamakawiwo'ole  spotify:track:25U7raB3ZSszayTYClh4hF   \n",
       "2                Joey Ramone  spotify:track:04cdEVbQPb8BJb7593e5fO   \n",
       "3    Asaf Avidan & the Mojos  spotify:track:5HSkycOEtb9iQ7cg1Oyqmu   \n",
       "4            Louis Armstrong  spotify:track:2pp3RfqX5cb1BAnmNi4Nej   \n",
       "..                       ...                                   ...   \n",
       "810      Garfunkel and Oates  spotify:track:6B89ADIwxCw60PHZN6Kdp4   \n",
       "811           Shiny Toy Guns  spotify:track:7nXXIXFSyDDPlfzCW9bdAa   \n",
       "812         Gordon Lightfoot  spotify:track:536L9C0N7vhYdibCJx3cI2   \n",
       "813                Blackmill  spotify:track:2eTjkXxxssJeR3u586CMkI   \n",
       "814     Kaleidoscope Jukebox  spotify:track:5gTS2Wd3sVesApuhRwmAeP   \n",
       "\n",
       "     danceability  energy  key  loudness  mode  speechiness  acousticness  \\\n",
       "0           0.526   0.413    9    -7.674     1       0.0278       0.42800   \n",
       "1           0.663   0.168    0   -13.725     1       0.0448       0.92800   \n",
       "2           0.422   0.878    5    -4.863     1       0.0442       0.00935   \n",
       "3           0.821   0.676    3    -6.366     0       0.0547       0.18700   \n",
       "4           0.388   0.327    5   -12.522     1       0.0317       0.73200   \n",
       "..            ...     ...  ...       ...   ...          ...           ...   \n",
       "810         0.569   0.367    5    -5.178     1       0.0878       0.86200   \n",
       "811         0.732   0.764   10    -6.503     0       0.0631       0.16200   \n",
       "812         0.308   0.376    4   -15.240     1       0.0626       0.11600   \n",
       "813         0.536   0.642    5    -6.479     0       0.0434       0.06400   \n",
       "814         0.689   0.660    7    -9.097     0       0.0316       0.06100   \n",
       "\n",
       "     instrumentalness  liveness  valence    tempo  \n",
       "0            0.000000    0.1260    0.211  115.936  \n",
       "1            0.000057    0.3610    0.678   85.005  \n",
       "2            0.332000    0.2010    0.496   84.044  \n",
       "3            0.000100    0.0927    0.559  119.012  \n",
       "4            0.001030    0.1500    0.222  107.894  \n",
       "..                ...       ...      ...      ...  \n",
       "810          0.000155    0.3370    0.823  169.768  \n",
       "811          0.346000    0.3220    0.685  132.019  \n",
       "812          0.000003    0.1660    0.158  186.047  \n",
       "813          0.356000    0.1050    0.193  138.914  \n",
       "814          0.890000    0.2010    0.274  120.003  \n",
       "\n",
       "[815 rows x 14 columns]"
      ]
     },
     "execution_count": 37,
     "metadata": {},
     "output_type": "execute_result"
    }
   ],
   "source": [
    "# all top songs with audio features\n",
    "all_top_songs =pd.concat([complete_track_names,complete_all_artists,complete_all_uri,complete_features], axis=1)\n",
    "all_top_songs"
   ]
  },
  {
   "cell_type": "code",
   "execution_count": 38,
   "id": "833f6625",
   "metadata": {},
   "outputs": [],
   "source": [
    "# Saving files to csv format\n",
    "#all_top_songs.to_csv('all_top_songs.csv', index=False)"
   ]
  },
  {
   "cell_type": "code",
   "execution_count": 39,
   "id": "96d1cdeb",
   "metadata": {},
   "outputs": [
    {
     "data": {
      "text/html": [
       "<div>\n",
       "<style scoped>\n",
       "    .dataframe tbody tr th:only-of-type {\n",
       "        vertical-align: middle;\n",
       "    }\n",
       "\n",
       "    .dataframe tbody tr th {\n",
       "        vertical-align: top;\n",
       "    }\n",
       "\n",
       "    .dataframe thead th {\n",
       "        text-align: right;\n",
       "    }\n",
       "</style>\n",
       "<table border=\"1\" class=\"dataframe\">\n",
       "  <thead>\n",
       "    <tr style=\"text-align: right;\">\n",
       "      <th></th>\n",
       "      <th>album</th>\n",
       "      <th>artist</th>\n",
       "      <th>uri</th>\n",
       "      <th>danceability</th>\n",
       "      <th>energy</th>\n",
       "      <th>key</th>\n",
       "      <th>loudness</th>\n",
       "      <th>mode</th>\n",
       "      <th>speechiness</th>\n",
       "      <th>acousticness</th>\n",
       "      <th>instrumentalness</th>\n",
       "      <th>liveness</th>\n",
       "      <th>valence</th>\n",
       "      <th>tempo</th>\n",
       "    </tr>\n",
       "  </thead>\n",
       "  <tbody>\n",
       "    <tr>\n",
       "      <th>0</th>\n",
       "      <td>Rainbow Connection</td>\n",
       "      <td>The Muppets</td>\n",
       "      <td>spotify:track:1SJ4ycWow4yz6z4oFz8NAG</td>\n",
       "      <td>0.526</td>\n",
       "      <td>0.413</td>\n",
       "      <td>9</td>\n",
       "      <td>-7.674</td>\n",
       "      <td>1</td>\n",
       "      <td>0.0278</td>\n",
       "      <td>0.42800</td>\n",
       "      <td>0.000000</td>\n",
       "      <td>0.126</td>\n",
       "      <td>0.211</td>\n",
       "      <td>115.936</td>\n",
       "    </tr>\n",
       "    <tr>\n",
       "      <th>1</th>\n",
       "      <td>Somewhere Over The Rainbow_What A Wonderful World</td>\n",
       "      <td>Israel Kamakawiwo'ole</td>\n",
       "      <td>spotify:track:25U7raB3ZSszayTYClh4hF</td>\n",
       "      <td>0.663</td>\n",
       "      <td>0.168</td>\n",
       "      <td>0</td>\n",
       "      <td>-13.725</td>\n",
       "      <td>1</td>\n",
       "      <td>0.0448</td>\n",
       "      <td>0.92800</td>\n",
       "      <td>0.000057</td>\n",
       "      <td>0.361</td>\n",
       "      <td>0.678</td>\n",
       "      <td>85.005</td>\n",
       "    </tr>\n",
       "    <tr>\n",
       "      <th>2</th>\n",
       "      <td>What a Wonderful World</td>\n",
       "      <td>Joey Ramone</td>\n",
       "      <td>spotify:track:04cdEVbQPb8BJb7593e5fO</td>\n",
       "      <td>0.422</td>\n",
       "      <td>0.878</td>\n",
       "      <td>5</td>\n",
       "      <td>-4.863</td>\n",
       "      <td>1</td>\n",
       "      <td>0.0442</td>\n",
       "      <td>0.00935</td>\n",
       "      <td>0.332000</td>\n",
       "      <td>0.201</td>\n",
       "      <td>0.496</td>\n",
       "      <td>84.044</td>\n",
       "    </tr>\n",
       "  </tbody>\n",
       "</table>\n",
       "</div>"
      ],
      "text/plain": [
       "                                               album                 artist  \\\n",
       "0                                 Rainbow Connection            The Muppets   \n",
       "1  Somewhere Over The Rainbow_What A Wonderful World  Israel Kamakawiwo'ole   \n",
       "2                             What a Wonderful World            Joey Ramone   \n",
       "\n",
       "                                    uri  danceability  energy  key  loudness  \\\n",
       "0  spotify:track:1SJ4ycWow4yz6z4oFz8NAG         0.526   0.413    9    -7.674   \n",
       "1  spotify:track:25U7raB3ZSszayTYClh4hF         0.663   0.168    0   -13.725   \n",
       "2  spotify:track:04cdEVbQPb8BJb7593e5fO         0.422   0.878    5    -4.863   \n",
       "\n",
       "   mode  speechiness  acousticness  instrumentalness  liveness  valence  \\\n",
       "0     1       0.0278       0.42800          0.000000     0.126    0.211   \n",
       "1     1       0.0448       0.92800          0.000057     0.361    0.678   \n",
       "2     1       0.0442       0.00935          0.332000     0.201    0.496   \n",
       "\n",
       "     tempo  \n",
       "0  115.936  \n",
       "1   85.005  \n",
       "2   84.044  "
      ]
     },
     "execution_count": 39,
     "metadata": {},
     "output_type": "execute_result"
    }
   ],
   "source": [
    "#Songs to cluster\n",
    "df_songs = pd.read_csv('all_top_songs.csv')\n",
    "df_songs.head(3)"
   ]
  },
  {
   "cell_type": "code",
   "execution_count": 40,
   "id": "4215ce9f",
   "metadata": {},
   "outputs": [
    {
     "name": "stdout",
     "output_type": "stream",
     "text": [
      "<class 'pandas.core.frame.DataFrame'>\n",
      "RangeIndex: 815 entries, 0 to 814\n",
      "Data columns (total 14 columns):\n",
      " #   Column            Non-Null Count  Dtype  \n",
      "---  ------            --------------  -----  \n",
      " 0   album             815 non-null    object \n",
      " 1   artist            815 non-null    object \n",
      " 2   uri               815 non-null    object \n",
      " 3   danceability      815 non-null    float64\n",
      " 4   energy            815 non-null    float64\n",
      " 5   key               815 non-null    int64  \n",
      " 6   loudness          815 non-null    float64\n",
      " 7   mode              815 non-null    int64  \n",
      " 8   speechiness       815 non-null    float64\n",
      " 9   acousticness      815 non-null    float64\n",
      " 10  instrumentalness  815 non-null    float64\n",
      " 11  liveness          815 non-null    float64\n",
      " 12  valence           815 non-null    float64\n",
      " 13  tempo             815 non-null    float64\n",
      "dtypes: float64(9), int64(2), object(3)\n",
      "memory usage: 89.3+ KB\n"
     ]
    }
   ],
   "source": [
    "df_songs.info()"
   ]
  },
  {
   "cell_type": "code",
   "execution_count": 41,
   "id": "60973359",
   "metadata": {},
   "outputs": [
    {
     "data": {
      "text/html": [
       "<div>\n",
       "<style scoped>\n",
       "    .dataframe tbody tr th:only-of-type {\n",
       "        vertical-align: middle;\n",
       "    }\n",
       "\n",
       "    .dataframe tbody tr th {\n",
       "        vertical-align: top;\n",
       "    }\n",
       "\n",
       "    .dataframe thead th {\n",
       "        text-align: right;\n",
       "    }\n",
       "</style>\n",
       "<table border=\"1\" class=\"dataframe\">\n",
       "  <thead>\n",
       "    <tr style=\"text-align: right;\">\n",
       "      <th></th>\n",
       "      <th>danceability</th>\n",
       "      <th>energy</th>\n",
       "      <th>key</th>\n",
       "      <th>loudness</th>\n",
       "      <th>mode</th>\n",
       "      <th>speechiness</th>\n",
       "      <th>acousticness</th>\n",
       "      <th>instrumentalness</th>\n",
       "      <th>liveness</th>\n",
       "      <th>valence</th>\n",
       "      <th>tempo</th>\n",
       "    </tr>\n",
       "  </thead>\n",
       "  <tbody>\n",
       "    <tr>\n",
       "      <th>count</th>\n",
       "      <td>815.000000</td>\n",
       "      <td>815.000000</td>\n",
       "      <td>815.000000</td>\n",
       "      <td>815.000000</td>\n",
       "      <td>815.000000</td>\n",
       "      <td>815.000000</td>\n",
       "      <td>815.000000</td>\n",
       "      <td>815.000000</td>\n",
       "      <td>815.000000</td>\n",
       "      <td>815.000000</td>\n",
       "      <td>815.000000</td>\n",
       "    </tr>\n",
       "    <tr>\n",
       "      <th>mean</th>\n",
       "      <td>0.548629</td>\n",
       "      <td>0.634118</td>\n",
       "      <td>5.076074</td>\n",
       "      <td>-7.885919</td>\n",
       "      <td>0.682209</td>\n",
       "      <td>0.060504</td>\n",
       "      <td>0.261070</td>\n",
       "      <td>0.053936</td>\n",
       "      <td>0.189893</td>\n",
       "      <td>0.500615</td>\n",
       "      <td>123.636579</td>\n",
       "    </tr>\n",
       "    <tr>\n",
       "      <th>std</th>\n",
       "      <td>0.155512</td>\n",
       "      <td>0.232019</td>\n",
       "      <td>3.505924</td>\n",
       "      <td>3.588865</td>\n",
       "      <td>0.465904</td>\n",
       "      <td>0.054374</td>\n",
       "      <td>0.292784</td>\n",
       "      <td>0.177651</td>\n",
       "      <td>0.161521</td>\n",
       "      <td>0.248240</td>\n",
       "      <td>29.468800</td>\n",
       "    </tr>\n",
       "    <tr>\n",
       "      <th>min</th>\n",
       "      <td>0.065900</td>\n",
       "      <td>0.030300</td>\n",
       "      <td>0.000000</td>\n",
       "      <td>-23.035000</td>\n",
       "      <td>0.000000</td>\n",
       "      <td>0.024300</td>\n",
       "      <td>0.000005</td>\n",
       "      <td>0.000000</td>\n",
       "      <td>0.021600</td>\n",
       "      <td>0.036900</td>\n",
       "      <td>59.965000</td>\n",
       "    </tr>\n",
       "    <tr>\n",
       "      <th>25%</th>\n",
       "      <td>0.447500</td>\n",
       "      <td>0.468500</td>\n",
       "      <td>2.000000</td>\n",
       "      <td>-9.979500</td>\n",
       "      <td>0.000000</td>\n",
       "      <td>0.032400</td>\n",
       "      <td>0.016900</td>\n",
       "      <td>0.000000</td>\n",
       "      <td>0.094100</td>\n",
       "      <td>0.305000</td>\n",
       "      <td>101.990500</td>\n",
       "    </tr>\n",
       "    <tr>\n",
       "      <th>50%</th>\n",
       "      <td>0.555000</td>\n",
       "      <td>0.663000</td>\n",
       "      <td>5.000000</td>\n",
       "      <td>-7.062000</td>\n",
       "      <td>1.000000</td>\n",
       "      <td>0.041700</td>\n",
       "      <td>0.125000</td>\n",
       "      <td>0.000008</td>\n",
       "      <td>0.124000</td>\n",
       "      <td>0.497000</td>\n",
       "      <td>122.873000</td>\n",
       "    </tr>\n",
       "    <tr>\n",
       "      <th>75%</th>\n",
       "      <td>0.663000</td>\n",
       "      <td>0.835000</td>\n",
       "      <td>8.000000</td>\n",
       "      <td>-5.225500</td>\n",
       "      <td>1.000000</td>\n",
       "      <td>0.062100</td>\n",
       "      <td>0.455000</td>\n",
       "      <td>0.001520</td>\n",
       "      <td>0.238500</td>\n",
       "      <td>0.711000</td>\n",
       "      <td>140.094500</td>\n",
       "    </tr>\n",
       "    <tr>\n",
       "      <th>max</th>\n",
       "      <td>0.940000</td>\n",
       "      <td>0.993000</td>\n",
       "      <td>11.000000</td>\n",
       "      <td>-1.108000</td>\n",
       "      <td>1.000000</td>\n",
       "      <td>0.505000</td>\n",
       "      <td>0.984000</td>\n",
       "      <td>0.934000</td>\n",
       "      <td>0.972000</td>\n",
       "      <td>0.974000</td>\n",
       "      <td>211.270000</td>\n",
       "    </tr>\n",
       "  </tbody>\n",
       "</table>\n",
       "</div>"
      ],
      "text/plain": [
       "       danceability      energy         key    loudness        mode  \\\n",
       "count    815.000000  815.000000  815.000000  815.000000  815.000000   \n",
       "mean       0.548629    0.634118    5.076074   -7.885919    0.682209   \n",
       "std        0.155512    0.232019    3.505924    3.588865    0.465904   \n",
       "min        0.065900    0.030300    0.000000  -23.035000    0.000000   \n",
       "25%        0.447500    0.468500    2.000000   -9.979500    0.000000   \n",
       "50%        0.555000    0.663000    5.000000   -7.062000    1.000000   \n",
       "75%        0.663000    0.835000    8.000000   -5.225500    1.000000   \n",
       "max        0.940000    0.993000   11.000000   -1.108000    1.000000   \n",
       "\n",
       "       speechiness  acousticness  instrumentalness    liveness     valence  \\\n",
       "count   815.000000    815.000000        815.000000  815.000000  815.000000   \n",
       "mean      0.060504      0.261070          0.053936    0.189893    0.500615   \n",
       "std       0.054374      0.292784          0.177651    0.161521    0.248240   \n",
       "min       0.024300      0.000005          0.000000    0.021600    0.036900   \n",
       "25%       0.032400      0.016900          0.000000    0.094100    0.305000   \n",
       "50%       0.041700      0.125000          0.000008    0.124000    0.497000   \n",
       "75%       0.062100      0.455000          0.001520    0.238500    0.711000   \n",
       "max       0.505000      0.984000          0.934000    0.972000    0.974000   \n",
       "\n",
       "            tempo  \n",
       "count  815.000000  \n",
       "mean   123.636579  \n",
       "std     29.468800  \n",
       "min     59.965000  \n",
       "25%    101.990500  \n",
       "50%    122.873000  \n",
       "75%    140.094500  \n",
       "max    211.270000  "
      ]
     },
     "execution_count": 41,
     "metadata": {},
     "output_type": "execute_result"
    }
   ],
   "source": [
    "df_songs.describe()"
   ]
  },
  {
   "cell_type": "code",
   "execution_count": 42,
   "id": "5a9fbcdd",
   "metadata": {},
   "outputs": [
    {
     "data": {
      "text/plain": [
       "Index(['album', 'artist', 'uri', 'danceability', 'energy', 'key', 'loudness',\n",
       "       'mode', 'speechiness', 'acousticness', 'instrumentalness', 'liveness',\n",
       "       'valence', 'tempo'],\n",
       "      dtype='object')"
      ]
     },
     "execution_count": 42,
     "metadata": {},
     "output_type": "execute_result"
    }
   ],
   "source": [
    "df_songs.columns #Verifying columns"
   ]
  },
  {
   "cell_type": "code",
   "execution_count": 43,
   "id": "13f3becc",
   "metadata": {},
   "outputs": [
    {
     "data": {
      "text/html": [
       "<div>\n",
       "<style scoped>\n",
       "    .dataframe tbody tr th:only-of-type {\n",
       "        vertical-align: middle;\n",
       "    }\n",
       "\n",
       "    .dataframe tbody tr th {\n",
       "        vertical-align: top;\n",
       "    }\n",
       "\n",
       "    .dataframe thead th {\n",
       "        text-align: right;\n",
       "    }\n",
       "</style>\n",
       "<table border=\"1\" class=\"dataframe\">\n",
       "  <thead>\n",
       "    <tr style=\"text-align: right;\">\n",
       "      <th></th>\n",
       "      <th>index</th>\n",
       "      <th>title</th>\n",
       "      <th>artist</th>\n",
       "    </tr>\n",
       "  </thead>\n",
       "  <tbody>\n",
       "    <tr>\n",
       "      <th>0</th>\n",
       "      <td>0</td>\n",
       "      <td>love nwantiti (feat. Axel &amp; DJ Yo) [Remix]</td>\n",
       "      <td>CKay</td>\n",
       "    </tr>\n",
       "    <tr>\n",
       "      <th>1</th>\n",
       "      <td>1</td>\n",
       "      <td>Manike Mage Hithe</td>\n",
       "      <td>Chamath Sangeeth, Yohani &amp; Satheeshan</td>\n",
       "    </tr>\n",
       "    <tr>\n",
       "      <th>2</th>\n",
       "      <td>2</td>\n",
       "      <td>Jugnu (feat. Nikhita Gandhi)</td>\n",
       "      <td>Badshah</td>\n",
       "    </tr>\n",
       "  </tbody>\n",
       "</table>\n",
       "</div>"
      ],
      "text/plain": [
       "   index                                       title  \\\n",
       "0      0  love nwantiti (feat. Axel & DJ Yo) [Remix]   \n",
       "1      1                           Manike Mage Hithe   \n",
       "2      2                Jugnu (feat. Nikhita Gandhi)   \n",
       "\n",
       "                                  artist  \n",
       "0                                   CKay  \n",
       "1  Chamath Sangeeth, Yohani & Satheeshan  \n",
       "2                                Badshah  "
      ]
     },
     "execution_count": 43,
     "metadata": {},
     "output_type": "execute_result"
    }
   ],
   "source": [
    "df_user = pd.read_csv('top_100_songs.csv') #Users songs\n",
    "df_user.head(3)"
   ]
  },
  {
   "cell_type": "code",
   "execution_count": 44,
   "id": "b02baf86",
   "metadata": {},
   "outputs": [
    {
     "data": {
      "text/plain": [
       "Index(['index', 'title', 'artist'], dtype='object')"
      ]
     },
     "execution_count": 44,
     "metadata": {},
     "output_type": "execute_result"
    }
   ],
   "source": [
    "df_user.columns"
   ]
  },
  {
   "cell_type": "code",
   "execution_count": 45,
   "id": "04e0ee20",
   "metadata": {},
   "outputs": [
    {
     "name": "stdout",
     "output_type": "stream",
     "text": [
      "<class 'pandas.core.frame.DataFrame'>\n",
      "RangeIndex: 200 entries, 0 to 199\n",
      "Data columns (total 3 columns):\n",
      " #   Column  Non-Null Count  Dtype \n",
      "---  ------  --------------  ----- \n",
      " 0   index   200 non-null    int64 \n",
      " 1   title   200 non-null    object\n",
      " 2   artist  200 non-null    object\n",
      "dtypes: int64(1), object(2)\n",
      "memory usage: 4.8+ KB\n"
     ]
    }
   ],
   "source": [
    "df_user.info()"
   ]
  },
  {
   "cell_type": "code",
   "execution_count": 46,
   "id": "7ef7875f",
   "metadata": {},
   "outputs": [
    {
     "data": {
      "text/html": [
       "<div>\n",
       "<style scoped>\n",
       "    .dataframe tbody tr th:only-of-type {\n",
       "        vertical-align: middle;\n",
       "    }\n",
       "\n",
       "    .dataframe tbody tr th {\n",
       "        vertical-align: top;\n",
       "    }\n",
       "\n",
       "    .dataframe thead th {\n",
       "        text-align: right;\n",
       "    }\n",
       "</style>\n",
       "<table border=\"1\" class=\"dataframe\">\n",
       "  <thead>\n",
       "    <tr style=\"text-align: right;\">\n",
       "      <th></th>\n",
       "      <th>index</th>\n",
       "    </tr>\n",
       "  </thead>\n",
       "  <tbody>\n",
       "    <tr>\n",
       "      <th>count</th>\n",
       "      <td>200.000000</td>\n",
       "    </tr>\n",
       "    <tr>\n",
       "      <th>mean</th>\n",
       "      <td>49.500000</td>\n",
       "    </tr>\n",
       "    <tr>\n",
       "      <th>std</th>\n",
       "      <td>28.938507</td>\n",
       "    </tr>\n",
       "    <tr>\n",
       "      <th>min</th>\n",
       "      <td>0.000000</td>\n",
       "    </tr>\n",
       "    <tr>\n",
       "      <th>25%</th>\n",
       "      <td>24.750000</td>\n",
       "    </tr>\n",
       "    <tr>\n",
       "      <th>50%</th>\n",
       "      <td>49.500000</td>\n",
       "    </tr>\n",
       "    <tr>\n",
       "      <th>75%</th>\n",
       "      <td>74.250000</td>\n",
       "    </tr>\n",
       "    <tr>\n",
       "      <th>max</th>\n",
       "      <td>99.000000</td>\n",
       "    </tr>\n",
       "  </tbody>\n",
       "</table>\n",
       "</div>"
      ],
      "text/plain": [
       "            index\n",
       "count  200.000000\n",
       "mean    49.500000\n",
       "std     28.938507\n",
       "min      0.000000\n",
       "25%     24.750000\n",
       "50%     49.500000\n",
       "75%     74.250000\n",
       "max     99.000000"
      ]
     },
     "execution_count": 46,
     "metadata": {},
     "output_type": "execute_result"
    }
   ],
   "source": [
    "df_user.describe()"
   ]
  },
  {
   "cell_type": "code",
   "execution_count": null,
   "id": "73044230",
   "metadata": {},
   "outputs": [],
   "source": []
  },
  {
   "cell_type": "code",
   "execution_count": null,
   "id": "aac5a385",
   "metadata": {},
   "outputs": [],
   "source": []
  },
  {
   "cell_type": "code",
   "execution_count": null,
   "id": "4ddada20",
   "metadata": {},
   "outputs": [],
   "source": []
  },
  {
   "cell_type": "code",
   "execution_count": 47,
   "id": "a1ffc6cf",
   "metadata": {},
   "outputs": [
    {
     "data": {
      "image/png": "[encoded data removed]",
      "text/plain": [
       "<Figure size 432x288 with 2 Axes>"
      ]
     },
     "metadata": {
      "needs_background": "light"
     },
     "output_type": "display_data"
    }
   ],
   "source": [
    "ax = sns.heatmap(df_songs.corr(), annot=True) #Verifying correlations between feature\n",
    "plt.show()"
   ]
  },
  {
   "cell_type": "code",
   "execution_count": 48,
   "id": "db6d0e59",
   "metadata": {},
   "outputs": [
    {
     "data": {
      "image/png": "[encoded data removed]",
      "text/plain": [
       "<Figure size 1440x720 with 12 Axes>"
      ]
     },
     "metadata": {
      "needs_background": "light"
     },
     "output_type": "display_data"
    }
   ],
   "source": [
    "df_songs[['album', 'artist', 'uri', 'danceability', 'energy', 'key', 'loudness',\n",
    "       'mode', 'speechiness', 'acousticness', 'instrumentalness', 'liveness',\n",
    "       'valence', 'tempo']].hist(bins=50, figsize=(20,10))\n",
    "plt.show() #Analyzing the distributions of the continuous features"
   ]
  },
  {
   "cell_type": "code",
   "execution_count": 49,
   "id": "6293a1e0",
   "metadata": {},
   "outputs": [
    {
     "data": {
      "image/png": "[encoded data removed]",
      "text/plain": [
       "<Figure size 720x360 with 1 Axes>"
      ]
     },
     "metadata": {
      "needs_background": "light"
     },
     "output_type": "display_data"
    },
    {
     "data": {
      "image/png": "[encoded data removed]",
      "text/plain": [
       "<Figure size 720x360 with 1 Axes>"
      ]
     },
     "metadata": {
      "needs_background": "light"
     },
     "output_type": "display_data"
    }
   ],
   "source": [
    "df_songs[['speechiness']].hist(figsize=(10,5))\n",
    "df_songs[['instrumentalness']].hist(figsize=(10,5))\n",
    "plt.show()"
   ]
  },
  {
   "cell_type": "code",
   "execution_count": 50,
   "id": "56951593",
   "metadata": {},
   "outputs": [
    {
     "data": {
      "text/html": [
       "<div>\n",
       "<style scoped>\n",
       "    .dataframe tbody tr th:only-of-type {\n",
       "        vertical-align: middle;\n",
       "    }\n",
       "\n",
       "    .dataframe tbody tr th {\n",
       "        vertical-align: top;\n",
       "    }\n",
       "\n",
       "    .dataframe thead th {\n",
       "        text-align: right;\n",
       "    }\n",
       "</style>\n",
       "<table border=\"1\" class=\"dataframe\">\n",
       "  <thead>\n",
       "    <tr style=\"text-align: right;\">\n",
       "      <th></th>\n",
       "      <th>danceability</th>\n",
       "      <th>energy</th>\n",
       "      <th>key</th>\n",
       "      <th>loudness</th>\n",
       "      <th>mode</th>\n",
       "      <th>speechiness</th>\n",
       "      <th>acousticness</th>\n",
       "      <th>instrumentalness</th>\n",
       "      <th>liveness</th>\n",
       "      <th>valence</th>\n",
       "      <th>tempo</th>\n",
       "    </tr>\n",
       "  </thead>\n",
       "  <tbody>\n",
       "    <tr>\n",
       "      <th>0</th>\n",
       "      <td>0.526</td>\n",
       "      <td>0.413</td>\n",
       "      <td>9</td>\n",
       "      <td>-7.674</td>\n",
       "      <td>1</td>\n",
       "      <td>0.0278</td>\n",
       "      <td>0.42800</td>\n",
       "      <td>0.000000</td>\n",
       "      <td>0.1260</td>\n",
       "      <td>0.211</td>\n",
       "      <td>115.936</td>\n",
       "    </tr>\n",
       "    <tr>\n",
       "      <th>1</th>\n",
       "      <td>0.663</td>\n",
       "      <td>0.168</td>\n",
       "      <td>0</td>\n",
       "      <td>-13.725</td>\n",
       "      <td>1</td>\n",
       "      <td>0.0448</td>\n",
       "      <td>0.92800</td>\n",
       "      <td>0.000057</td>\n",
       "      <td>0.3610</td>\n",
       "      <td>0.678</td>\n",
       "      <td>85.005</td>\n",
       "    </tr>\n",
       "    <tr>\n",
       "      <th>2</th>\n",
       "      <td>0.422</td>\n",
       "      <td>0.878</td>\n",
       "      <td>5</td>\n",
       "      <td>-4.863</td>\n",
       "      <td>1</td>\n",
       "      <td>0.0442</td>\n",
       "      <td>0.00935</td>\n",
       "      <td>0.332000</td>\n",
       "      <td>0.2010</td>\n",
       "      <td>0.496</td>\n",
       "      <td>84.044</td>\n",
       "    </tr>\n",
       "    <tr>\n",
       "      <th>3</th>\n",
       "      <td>0.821</td>\n",
       "      <td>0.676</td>\n",
       "      <td>3</td>\n",
       "      <td>-6.366</td>\n",
       "      <td>0</td>\n",
       "      <td>0.0547</td>\n",
       "      <td>0.18700</td>\n",
       "      <td>0.000100</td>\n",
       "      <td>0.0927</td>\n",
       "      <td>0.559</td>\n",
       "      <td>119.012</td>\n",
       "    </tr>\n",
       "    <tr>\n",
       "      <th>4</th>\n",
       "      <td>0.388</td>\n",
       "      <td>0.327</td>\n",
       "      <td>5</td>\n",
       "      <td>-12.522</td>\n",
       "      <td>1</td>\n",
       "      <td>0.0317</td>\n",
       "      <td>0.73200</td>\n",
       "      <td>0.001030</td>\n",
       "      <td>0.1500</td>\n",
       "      <td>0.222</td>\n",
       "      <td>107.894</td>\n",
       "    </tr>\n",
       "    <tr>\n",
       "      <th>...</th>\n",
       "      <td>...</td>\n",
       "      <td>...</td>\n",
       "      <td>...</td>\n",
       "      <td>...</td>\n",
       "      <td>...</td>\n",
       "      <td>...</td>\n",
       "      <td>...</td>\n",
       "      <td>...</td>\n",
       "      <td>...</td>\n",
       "      <td>...</td>\n",
       "      <td>...</td>\n",
       "    </tr>\n",
       "    <tr>\n",
       "      <th>810</th>\n",
       "      <td>0.569</td>\n",
       "      <td>0.367</td>\n",
       "      <td>5</td>\n",
       "      <td>-5.178</td>\n",
       "      <td>1</td>\n",
       "      <td>0.0878</td>\n",
       "      <td>0.86200</td>\n",
       "      <td>0.000155</td>\n",
       "      <td>0.3370</td>\n",
       "      <td>0.823</td>\n",
       "      <td>169.768</td>\n",
       "    </tr>\n",
       "    <tr>\n",
       "      <th>811</th>\n",
       "      <td>0.732</td>\n",
       "      <td>0.764</td>\n",
       "      <td>10</td>\n",
       "      <td>-6.503</td>\n",
       "      <td>0</td>\n",
       "      <td>0.0631</td>\n",
       "      <td>0.16200</td>\n",
       "      <td>0.346000</td>\n",
       "      <td>0.3220</td>\n",
       "      <td>0.685</td>\n",
       "      <td>132.019</td>\n",
       "    </tr>\n",
       "    <tr>\n",
       "      <th>812</th>\n",
       "      <td>0.308</td>\n",
       "      <td>0.376</td>\n",
       "      <td>4</td>\n",
       "      <td>-15.240</td>\n",
       "      <td>1</td>\n",
       "      <td>0.0626</td>\n",
       "      <td>0.11600</td>\n",
       "      <td>0.000003</td>\n",
       "      <td>0.1660</td>\n",
       "      <td>0.158</td>\n",
       "      <td>186.047</td>\n",
       "    </tr>\n",
       "    <tr>\n",
       "      <th>813</th>\n",
       "      <td>0.536</td>\n",
       "      <td>0.642</td>\n",
       "      <td>5</td>\n",
       "      <td>-6.479</td>\n",
       "      <td>0</td>\n",
       "      <td>0.0434</td>\n",
       "      <td>0.06400</td>\n",
       "      <td>0.356000</td>\n",
       "      <td>0.1050</td>\n",
       "      <td>0.193</td>\n",
       "      <td>138.914</td>\n",
       "    </tr>\n",
       "    <tr>\n",
       "      <th>814</th>\n",
       "      <td>0.689</td>\n",
       "      <td>0.660</td>\n",
       "      <td>7</td>\n",
       "      <td>-9.097</td>\n",
       "      <td>0</td>\n",
       "      <td>0.0316</td>\n",
       "      <td>0.06100</td>\n",
       "      <td>0.890000</td>\n",
       "      <td>0.2010</td>\n",
       "      <td>0.274</td>\n",
       "      <td>120.003</td>\n",
       "    </tr>\n",
       "  </tbody>\n",
       "</table>\n",
       "<p>815 rows × 11 columns</p>\n",
       "</div>"
      ],
      "text/plain": [
       "     danceability  energy  key  loudness  mode  speechiness  acousticness  \\\n",
       "0           0.526   0.413    9    -7.674     1       0.0278       0.42800   \n",
       "1           0.663   0.168    0   -13.725     1       0.0448       0.92800   \n",
       "2           0.422   0.878    5    -4.863     1       0.0442       0.00935   \n",
       "3           0.821   0.676    3    -6.366     0       0.0547       0.18700   \n",
       "4           0.388   0.327    5   -12.522     1       0.0317       0.73200   \n",
       "..            ...     ...  ...       ...   ...          ...           ...   \n",
       "810         0.569   0.367    5    -5.178     1       0.0878       0.86200   \n",
       "811         0.732   0.764   10    -6.503     0       0.0631       0.16200   \n",
       "812         0.308   0.376    4   -15.240     1       0.0626       0.11600   \n",
       "813         0.536   0.642    5    -6.479     0       0.0434       0.06400   \n",
       "814         0.689   0.660    7    -9.097     0       0.0316       0.06100   \n",
       "\n",
       "     instrumentalness  liveness  valence    tempo  \n",
       "0            0.000000    0.1260    0.211  115.936  \n",
       "1            0.000057    0.3610    0.678   85.005  \n",
       "2            0.332000    0.2010    0.496   84.044  \n",
       "3            0.000100    0.0927    0.559  119.012  \n",
       "4            0.001030    0.1500    0.222  107.894  \n",
       "..                ...       ...      ...      ...  \n",
       "810          0.000155    0.3370    0.823  169.768  \n",
       "811          0.346000    0.3220    0.685  132.019  \n",
       "812          0.000003    0.1660    0.158  186.047  \n",
       "813          0.356000    0.1050    0.193  138.914  \n",
       "814          0.890000    0.2010    0.274  120.003  \n",
       "\n",
       "[815 rows x 11 columns]"
      ]
     },
     "execution_count": 50,
     "metadata": {},
     "output_type": "execute_result"
    }
   ],
   "source": [
    "complete_features"
   ]
  },
  {
   "cell_type": "code",
   "execution_count": 51,
   "id": "108edc09",
   "metadata": {},
   "outputs": [
    {
     "data": {
      "text/plain": [
       "KMeans(n_clusters=3, random_state=1234)"
      ]
     },
     "execution_count": 51,
     "metadata": {},
     "output_type": "execute_result"
    }
   ],
   "source": [
    "# Currently using MinMaxScaler\n",
    "ss = StandardScaler()\n",
    "scaler = ss.fit(complete_features)\n",
    "scaled_data = scaler.transform(complete_features)\n",
    "\n",
    "from sklearn.cluster import KMeans\n",
    "\n",
    "kmeans = KMeans(n_clusters=3, random_state=1234)\n",
    "kmeans.fit(scaled_data)\n",
    "\n",
    "\n"
   ]
  },
  {
   "cell_type": "code",
   "execution_count": 52,
   "id": "ee53443d",
   "metadata": {},
   "outputs": [
    {
     "data": {
      "text/plain": [
       "0     42\n",
       "1    488\n",
       "2    285\n",
       "dtype: int64"
      ]
     },
     "execution_count": 52,
     "metadata": {},
     "output_type": "execute_result"
    }
   ],
   "source": [
    "# Predicting / assigning the clusters:\n",
    "clusters = kmeans.predict(scaled_data)\n",
    "\n",
    "# Check the size of the clusters\n",
    "pd.Series(clusters).value_counts().sort_index()"
   ]
  },
  {
   "cell_type": "code",
   "execution_count": 53,
   "id": "5c685a71",
   "metadata": {},
   "outputs": [
    {
     "data": {
      "text/plain": [
       "array([2, 2, 1, 1, 2, 1, 1, 1, 1, 2, 0, 1, 1, 1, 1, 1, 1, 1, 2, 2, 2, 1,\n",
       "       1, 1, 2, 2, 2, 2, 1, 1, 2, 2, 1, 2, 1, 2, 2, 1, 1, 1, 1, 1, 1, 1,\n",
       "       2, 2, 1, 1, 1, 1, 1, 1, 2, 1, 1, 1, 1, 1, 1, 2, 1, 1, 1, 2, 1, 1,\n",
       "       1, 1, 2, 2, 1, 0, 2, 1, 2, 1, 1, 1, 1, 2, 2, 1, 2, 2, 2, 2, 2, 1,\n",
       "       1, 1, 1, 1, 1, 2, 2, 1, 1, 1, 1, 2, 1, 2, 1, 1, 1, 1, 2, 2, 1, 1,\n",
       "       1, 1, 1, 1, 1, 1, 2, 2, 2, 2, 1, 2, 1, 1, 2, 1, 1, 2, 1, 1, 1, 2,\n",
       "       2, 1, 2, 1, 1, 1, 1, 1, 2, 1, 1, 1, 2, 1, 2, 1, 2, 1, 1, 2, 2, 2,\n",
       "       2, 1, 1, 1, 1, 1, 1, 1, 1, 2, 0, 2, 1, 1, 1, 2, 1, 1, 1, 1, 1, 2,\n",
       "       2, 2, 1, 2, 1, 2, 1, 1, 0, 2, 2, 1, 2, 1, 1, 2, 1, 1, 2, 1, 2, 2,\n",
       "       2, 2, 2, 2, 1, 1, 1, 2, 1, 1, 1, 1, 1, 1, 0, 2, 1, 1, 2, 2, 1, 1,\n",
       "       2, 1, 1, 1, 1, 1, 1, 1, 2, 1, 1, 1, 1, 2, 1, 2, 1, 1, 0, 1, 1, 1,\n",
       "       2, 1, 2, 1, 1, 2, 1, 2, 1, 2, 1, 1, 1, 1, 1, 1, 1, 2, 1, 1, 1, 2,\n",
       "       1, 2, 1, 1, 2, 1, 1, 2, 2, 1, 1, 1, 1, 1, 1, 1, 1, 2, 1, 2, 1, 1,\n",
       "       1, 1, 1, 2, 2, 1, 1, 1, 1, 2, 1, 2, 1, 1, 1, 1, 2, 2, 1, 1, 1, 2,\n",
       "       2, 2, 2, 2, 2, 2, 2, 1, 0, 1, 2, 1, 1, 2, 1, 1, 2, 2, 2, 1, 1, 2,\n",
       "       2, 1, 1, 1, 2, 2, 1, 1, 2, 2, 1, 2, 1, 1, 2, 1, 2, 1, 1, 2, 1, 2,\n",
       "       2, 2, 1, 2, 1, 2, 2, 1, 2, 1, 2, 1, 2, 1, 1, 2, 1, 1, 1, 1, 1, 1,\n",
       "       1, 1, 1, 1, 2, 1, 2, 1, 2, 1, 2, 2, 1, 1, 1, 1, 1, 1, 1, 1, 0, 2,\n",
       "       1, 1, 2, 2, 1, 1, 1, 1, 2, 1, 1, 1, 1, 1, 1, 1, 1, 1, 1, 1, 1, 1,\n",
       "       1, 1, 0, 0, 1, 1, 1, 1, 1, 1, 1, 1, 1, 2, 1, 2, 1, 2, 2, 2, 1, 2,\n",
       "       1, 0, 2, 1, 1, 1, 2, 1, 2, 1, 2, 2, 2, 2, 2, 1, 2, 0, 2, 2, 2, 2,\n",
       "       1, 1, 1, 1, 1, 2, 1, 2, 1, 1, 1, 1, 1, 1, 1, 1, 1, 1, 1, 1, 1, 1,\n",
       "       1, 1, 1, 2, 1, 1, 1, 1, 1, 1, 1, 1, 1, 1, 1, 0, 2, 1, 1, 2, 1, 0,\n",
       "       1, 1, 1, 2, 1, 1, 2, 1, 2, 1, 0, 0, 0, 0, 2, 1, 2, 0, 2, 2, 1, 1,\n",
       "       1, 2, 1, 2, 1, 1, 1, 2, 1, 1, 2, 1, 1, 1, 1, 2, 1, 2, 2, 2, 1, 2,\n",
       "       1, 2, 2, 1, 1, 2, 1, 2, 1, 1, 1, 1, 1, 2, 1, 1, 1, 2, 1, 1, 1, 2,\n",
       "       1, 2, 2, 2, 2, 2, 1, 1, 1, 1, 2, 2, 1, 2, 2, 1, 1, 2, 1, 1, 1, 2,\n",
       "       1, 1, 1, 1, 1, 0, 0, 0, 1, 0, 2, 0, 2, 0, 0, 1, 2, 2, 2, 2, 2, 2,\n",
       "       1, 1, 1, 2, 2, 1, 2, 2, 1, 0, 1, 1, 1, 1, 2, 1, 2, 1, 1, 1, 0, 2,\n",
       "       1, 1, 0, 2, 0, 2, 2, 2, 1, 2, 2, 2, 2, 2, 2, 1, 1, 2, 1, 1, 1, 1,\n",
       "       1, 1, 1, 1, 1, 1, 1, 2, 2, 1, 1, 1, 2, 1, 2, 2, 1, 1, 1, 1, 1, 2,\n",
       "       1, 1, 1, 1, 1, 1, 1, 1, 1, 0, 1, 1, 1, 0, 2, 0, 0, 1, 1, 2, 2, 2,\n",
       "       1, 1, 2, 2, 1, 1, 2, 2, 1, 2, 1, 1, 1, 2, 1, 1, 2, 1, 2, 1, 2, 2,\n",
       "       2, 1, 2, 2, 1, 1, 2, 2, 1, 2, 2, 2, 2, 1, 2, 2, 1, 2, 1, 1, 1, 1,\n",
       "       0, 2, 0, 2, 2, 1, 1, 1, 1, 1, 2, 2, 1, 1, 1, 0, 2, 1, 2, 2, 1, 1,\n",
       "       2, 2, 1, 2, 1, 0, 1, 1, 1, 2, 1, 2, 2, 1, 1, 1, 2, 1, 1, 1, 2, 1,\n",
       "       0, 1, 2, 2, 1, 2, 2, 1, 0, 0, 2, 2, 1, 1, 1, 1, 1, 2, 2, 1, 2, 1,\n",
       "       0])"
      ]
     },
     "execution_count": 53,
     "metadata": {},
     "output_type": "execute_result"
    }
   ],
   "source": [
    "clusters"
   ]
  },
  {
   "cell_type": "code",
   "execution_count": 54,
   "id": "7830c175",
   "metadata": {},
   "outputs": [],
   "source": [
    "#y.to_numpy()"
   ]
  },
  {
   "cell_type": "code",
   "execution_count": 55,
   "id": "a6e4b6ca",
   "metadata": {},
   "outputs": [
    {
     "data": {
      "text/plain": [
       "6787.997962155754"
      ]
     },
     "execution_count": 55,
     "metadata": {},
     "output_type": "execute_result"
    }
   ],
   "source": [
    "kmeans.inertia_ "
   ]
  },
  {
   "cell_type": "code",
   "execution_count": 56,
   "id": "113ce85b",
   "metadata": {},
   "outputs": [
    {
     "name": "stdout",
     "output_type": "stream",
     "text": [
      "5078.904468539082\n"
     ]
    }
   ],
   "source": [
    "kmeans_final = KMeans(n_clusters=7,\n",
    "                init=\"random\",\n",
    "                n_init=30,  # try with 1, 4, 8, 20, 30, 100...\n",
    "                max_iter=10,\n",
    "                tol=0,\n",
    "                random_state=1234)\n",
    "kmeans_final.fit(scaled_data)\n",
    "print(kmeans_final.inertia_)"
   ]
  },
  {
   "cell_type": "code",
   "execution_count": 57,
   "id": "1698efe2",
   "metadata": {},
   "outputs": [
    {
     "data": {
      "text/plain": [
       "array([1, 1, 6, 3, 1, 5, 6, 5, 2, 6, 0, 3, 3, 2, 3, 0, 3, 6, 1, 0, 1, 0,\n",
       "       6, 3, 1, 1, 0, 6, 5, 6, 6, 1, 2, 1, 3, 1, 1, 2, 3, 6, 6, 6, 3, 2,\n",
       "       3, 1, 6, 5, 0, 5, 2, 2, 1, 6, 3, 6, 0, 2, 3, 1, 5, 3, 6, 6, 3, 3,\n",
       "       6, 6, 6, 5, 6, 4, 1, 6, 6, 5, 0, 6, 3, 1, 5, 3, 1, 5, 0, 1, 5, 6,\n",
       "       0, 6, 6, 3, 6, 1, 1, 3, 3, 0, 0, 1, 3, 0, 3, 3, 3, 6, 1, 0, 3, 6,\n",
       "       6, 3, 0, 3, 6, 3, 2, 2, 3, 1, 5, 0, 6, 2, 1, 6, 6, 3, 5, 5, 5, 6,\n",
       "       1, 3, 6, 2, 6, 5, 5, 3, 1, 5, 6, 3, 1, 3, 1, 5, 6, 0, 6, 6, 6, 3,\n",
       "       6, 3, 0, 0, 6, 3, 3, 3, 5, 6, 4, 6, 6, 6, 2, 6, 2, 6, 3, 6, 6, 1,\n",
       "       1, 1, 5, 1, 3, 1, 6, 0, 4, 3, 3, 6, 6, 6, 6, 0, 6, 6, 1, 5, 1, 6,\n",
       "       1, 6, 0, 0, 5, 6, 6, 6, 6, 6, 6, 6, 6, 6, 4, 1, 0, 3, 1, 0, 3, 6,\n",
       "       6, 6, 2, 5, 6, 3, 6, 6, 1, 3, 6, 3, 6, 0, 3, 3, 6, 3, 4, 2, 6, 6,\n",
       "       0, 3, 0, 6, 3, 6, 6, 1, 6, 1, 6, 0, 6, 6, 0, 6, 3, 5, 3, 6, 6, 0,\n",
       "       3, 1, 0, 5, 6, 3, 3, 0, 6, 3, 3, 6, 6, 6, 6, 6, 6, 0, 0, 5, 6, 3,\n",
       "       0, 5, 3, 6, 1, 6, 5, 3, 3, 1, 0, 3, 6, 6, 6, 0, 0, 6, 5, 2, 5, 3,\n",
       "       0, 1, 1, 0, 1, 1, 1, 6, 4, 6, 6, 6, 6, 3, 0, 3, 6, 1, 0, 5, 5, 3,\n",
       "       1, 0, 5, 6, 6, 1, 5, 0, 1, 6, 0, 1, 2, 2, 6, 3, 1, 2, 5, 1, 2, 6,\n",
       "       1, 1, 6, 0, 5, 3, 0, 6, 1, 6, 1, 3, 6, 6, 3, 0, 5, 0, 6, 3, 5, 0,\n",
       "       6, 3, 0, 5, 1, 3, 6, 0, 1, 6, 6, 1, 6, 3, 5, 5, 3, 0, 6, 0, 4, 1,\n",
       "       5, 6, 1, 0, 3, 6, 5, 3, 6, 0, 3, 6, 0, 5, 6, 3, 6, 6, 5, 6, 6, 3,\n",
       "       6, 3, 4, 4, 6, 6, 0, 0, 6, 3, 6, 0, 5, 1, 6, 1, 6, 1, 0, 1, 6, 1,\n",
       "       3, 4, 6, 3, 6, 6, 1, 3, 1, 2, 6, 1, 1, 1, 1, 6, 1, 4, 6, 1, 1, 1,\n",
       "       3, 5, 3, 3, 0, 1, 5, 0, 6, 6, 3, 0, 6, 6, 6, 6, 3, 6, 6, 5, 3, 6,\n",
       "       3, 3, 6, 2, 3, 3, 6, 2, 6, 0, 6, 3, 3, 2, 6, 4, 1, 6, 6, 1, 3, 4,\n",
       "       6, 3, 6, 1, 3, 3, 1, 6, 6, 6, 4, 4, 4, 4, 1, 5, 3, 4, 1, 1, 6, 6,\n",
       "       3, 0, 3, 5, 3, 3, 3, 1, 6, 0, 1, 6, 3, 2, 3, 0, 3, 5, 1, 0, 3, 1,\n",
       "       6, 0, 1, 6, 6, 1, 0, 1, 0, 6, 6, 0, 6, 3, 5, 0, 6, 0, 0, 3, 0, 1,\n",
       "       3, 3, 1, 1, 1, 1, 6, 6, 0, 6, 1, 6, 6, 3, 1, 3, 6, 1, 6, 3, 2, 1,\n",
       "       3, 6, 0, 3, 0, 4, 4, 4, 6, 4, 6, 4, 1, 4, 4, 6, 1, 1, 1, 1, 0, 0,\n",
       "       5, 3, 3, 1, 6, 6, 1, 3, 0, 4, 6, 6, 6, 0, 1, 5, 1, 6, 2, 3, 4, 1,\n",
       "       6, 0, 4, 1, 4, 1, 1, 1, 0, 1, 3, 1, 1, 1, 1, 6, 3, 1, 6, 3, 6, 3,\n",
       "       6, 6, 3, 2, 6, 3, 6, 1, 6, 0, 6, 2, 6, 2, 0, 1, 6, 6, 6, 2, 0, 3,\n",
       "       6, 6, 3, 3, 0, 0, 3, 6, 3, 4, 0, 5, 5, 4, 6, 4, 4, 3, 2, 6, 1, 1,\n",
       "       6, 5, 1, 1, 3, 5, 0, 1, 5, 1, 6, 3, 6, 1, 6, 0, 1, 3, 1, 3, 0, 1,\n",
       "       1, 6, 1, 1, 6, 6, 0, 1, 6, 1, 1, 6, 1, 3, 1, 6, 3, 0, 3, 3, 2, 5,\n",
       "       4, 3, 4, 2, 6, 6, 6, 0, 3, 6, 0, 0, 6, 5, 6, 4, 0, 0, 1, 1, 3, 6,\n",
       "       0, 6, 3, 1, 6, 4, 6, 3, 6, 2, 3, 6, 3, 3, 0, 2, 1, 5, 3, 0, 1, 3,\n",
       "       4, 3, 1, 1, 3, 1, 5, 5, 0, 4, 6, 1, 6, 0, 6, 3, 6, 6, 0, 3, 0, 3,\n",
       "       4])"
      ]
     },
     "execution_count": 57,
     "metadata": {},
     "output_type": "execute_result"
    }
   ],
   "source": [
    "cluster = kmeans_final.predict(scaled_data)\n",
    "cluster"
   ]
  },
  {
   "cell_type": "code",
   "execution_count": 58,
   "id": "0a6ff746",
   "metadata": {},
   "outputs": [
    {
     "data": {
      "text/plain": [
       "Text(0.5, 1.0, 'Elbow Method showing the optimal k')"
      ]
     },
     "execution_count": 58,
     "metadata": {},
     "output_type": "execute_result"
    },
    {
     "data": {
      "image/png": "[encoded data removed]",
      "text/plain": [
       "<Figure size 1152x576 with 1 Axes>"
      ]
     },
     "metadata": {
      "needs_background": "light"
     },
     "output_type": "display_data"
    }
   ],
   "source": [
    "import numpy as np\n",
    "K = range(2, 20)\n",
    "inertia = []\n",
    "\n",
    "for k in K:\n",
    "    kmeans = KMeans(n_clusters=k,\n",
    "                    random_state=1234)\n",
    "    kmeans.fit(scaled_data)\n",
    "    inertia.append(kmeans.inertia_)\n",
    "\n",
    "import matplotlib.pyplot as plt\n",
    "%matplotlib inline\n",
    "\n",
    "plt.figure(figsize=(16,8))\n",
    "plt.plot(K, inertia, 'bx-')\n",
    "plt.xlabel('k')\n",
    "plt.ylabel('inertia')\n",
    "plt.xticks(np.arange(min(K), max(K)+1, 1.0))\n",
    "plt.title('Elbow Method showing the optimal k')"
   ]
  },
  {
   "cell_type": "code",
   "execution_count": 59,
   "id": "d53c2b19",
   "metadata": {},
   "outputs": [
    {
     "data": {
      "text/plain": [
       "Text(0.5, 1.0, 'Elbow Method showing the optimal k')"
      ]
     },
     "execution_count": 59,
     "metadata": {},
     "output_type": "execute_result"
    },
    {
     "data": {
      "image/png": "[encoded data removed]",
      "text/plain": [
       "<Figure size 1152x576 with 1 Axes>"
      ]
     },
     "metadata": {
      "needs_background": "light"
     },
     "output_type": "display_data"
    }
   ],
   "source": [
    "from sklearn.metrics import silhouette_score\n",
    "K = range(2, 20)\n",
    "silhouette = []\n",
    "\n",
    "for k in K:\n",
    "    kmeans = KMeans(n_clusters=k,\n",
    "                    random_state=1234)\n",
    "    kmeans.fit(scaled_data)\n",
    "    silhouette.append(silhouette_score(scaled_data, kmeans.predict(scaled_data)))\n",
    "\n",
    "\n",
    "plt.figure(figsize=(16,8))\n",
    "plt.plot(K, silhouette, 'bx-')\n",
    "plt.xlabel('k')\n",
    "plt.ylabel('silhouette score')\n",
    "plt.xticks(np.arange(min(K), max(K)+1, 1.0))\n",
    "plt.title('Elbow Method showing the optimal k')"
   ]
  },
  {
   "cell_type": "code",
   "execution_count": 60,
   "id": "b4e07d60",
   "metadata": {},
   "outputs": [
    {
     "data": {
      "text/plain": [
       "0      1\n",
       "1      1\n",
       "2      6\n",
       "3      3\n",
       "4      1\n",
       "      ..\n",
       "810    0\n",
       "811    3\n",
       "812    0\n",
       "813    3\n",
       "814    4\n",
       "Name: new_cluster, Length: 815, dtype: int32"
      ]
     },
     "execution_count": 60,
     "metadata": {},
     "output_type": "execute_result"
    }
   ],
   "source": [
    "df_songs['new_cluster'] = cluster\n",
    "df_songs['new_cluster']"
   ]
  },
  {
   "cell_type": "code",
   "execution_count": 61,
   "id": "d02a8648",
   "metadata": {},
   "outputs": [
    {
     "data": {
      "text/html": [
       "<div>\n",
       "<style scoped>\n",
       "    .dataframe tbody tr th:only-of-type {\n",
       "        vertical-align: middle;\n",
       "    }\n",
       "\n",
       "    .dataframe tbody tr th {\n",
       "        vertical-align: top;\n",
       "    }\n",
       "\n",
       "    .dataframe thead th {\n",
       "        text-align: right;\n",
       "    }\n",
       "</style>\n",
       "<table border=\"1\" class=\"dataframe\">\n",
       "  <thead>\n",
       "    <tr style=\"text-align: right;\">\n",
       "      <th></th>\n",
       "      <th>album</th>\n",
       "      <th>artist</th>\n",
       "      <th>uri</th>\n",
       "      <th>danceability</th>\n",
       "      <th>energy</th>\n",
       "      <th>key</th>\n",
       "      <th>loudness</th>\n",
       "      <th>mode</th>\n",
       "      <th>speechiness</th>\n",
       "      <th>acousticness</th>\n",
       "      <th>instrumentalness</th>\n",
       "      <th>liveness</th>\n",
       "      <th>valence</th>\n",
       "      <th>tempo</th>\n",
       "      <th>new_cluster</th>\n",
       "    </tr>\n",
       "  </thead>\n",
       "  <tbody>\n",
       "    <tr>\n",
       "      <th>0</th>\n",
       "      <td>Rainbow Connection</td>\n",
       "      <td>The Muppets</td>\n",
       "      <td>spotify:track:1SJ4ycWow4yz6z4oFz8NAG</td>\n",
       "      <td>0.526</td>\n",
       "      <td>0.413</td>\n",
       "      <td>9</td>\n",
       "      <td>-7.674</td>\n",
       "      <td>1</td>\n",
       "      <td>0.0278</td>\n",
       "      <td>0.42800</td>\n",
       "      <td>0.000000</td>\n",
       "      <td>0.1260</td>\n",
       "      <td>0.211</td>\n",
       "      <td>115.936</td>\n",
       "      <td>1</td>\n",
       "    </tr>\n",
       "    <tr>\n",
       "      <th>1</th>\n",
       "      <td>Somewhere Over The Rainbow_What A Wonderful World</td>\n",
       "      <td>Israel Kamakawiwo'ole</td>\n",
       "      <td>spotify:track:25U7raB3ZSszayTYClh4hF</td>\n",
       "      <td>0.663</td>\n",
       "      <td>0.168</td>\n",
       "      <td>0</td>\n",
       "      <td>-13.725</td>\n",
       "      <td>1</td>\n",
       "      <td>0.0448</td>\n",
       "      <td>0.92800</td>\n",
       "      <td>0.000057</td>\n",
       "      <td>0.3610</td>\n",
       "      <td>0.678</td>\n",
       "      <td>85.005</td>\n",
       "      <td>1</td>\n",
       "    </tr>\n",
       "    <tr>\n",
       "      <th>2</th>\n",
       "      <td>What a Wonderful World</td>\n",
       "      <td>Joey Ramone</td>\n",
       "      <td>spotify:track:04cdEVbQPb8BJb7593e5fO</td>\n",
       "      <td>0.422</td>\n",
       "      <td>0.878</td>\n",
       "      <td>5</td>\n",
       "      <td>-4.863</td>\n",
       "      <td>1</td>\n",
       "      <td>0.0442</td>\n",
       "      <td>0.00935</td>\n",
       "      <td>0.332000</td>\n",
       "      <td>0.2010</td>\n",
       "      <td>0.496</td>\n",
       "      <td>84.044</td>\n",
       "      <td>6</td>\n",
       "    </tr>\n",
       "    <tr>\n",
       "      <th>3</th>\n",
       "      <td>One Day / Reckoning Song (Wankelmut Remix) [Ra...</td>\n",
       "      <td>Asaf Avidan &amp; the Mojos</td>\n",
       "      <td>spotify:track:5HSkycOEtb9iQ7cg1Oyqmu</td>\n",
       "      <td>0.821</td>\n",
       "      <td>0.676</td>\n",
       "      <td>3</td>\n",
       "      <td>-6.366</td>\n",
       "      <td>0</td>\n",
       "      <td>0.0547</td>\n",
       "      <td>0.18700</td>\n",
       "      <td>0.000100</td>\n",
       "      <td>0.0927</td>\n",
       "      <td>0.559</td>\n",
       "      <td>119.012</td>\n",
       "      <td>3</td>\n",
       "    </tr>\n",
       "    <tr>\n",
       "      <th>4</th>\n",
       "      <td>What A Wonderful World - Single Version</td>\n",
       "      <td>Louis Armstrong</td>\n",
       "      <td>spotify:track:2pp3RfqX5cb1BAnmNi4Nej</td>\n",
       "      <td>0.388</td>\n",
       "      <td>0.327</td>\n",
       "      <td>5</td>\n",
       "      <td>-12.522</td>\n",
       "      <td>1</td>\n",
       "      <td>0.0317</td>\n",
       "      <td>0.73200</td>\n",
       "      <td>0.001030</td>\n",
       "      <td>0.1500</td>\n",
       "      <td>0.222</td>\n",
       "      <td>107.894</td>\n",
       "      <td>1</td>\n",
       "    </tr>\n",
       "  </tbody>\n",
       "</table>\n",
       "</div>"
      ],
      "text/plain": [
       "                                               album                   artist  \\\n",
       "0                                 Rainbow Connection              The Muppets   \n",
       "1  Somewhere Over The Rainbow_What A Wonderful World    Israel Kamakawiwo'ole   \n",
       "2                             What a Wonderful World              Joey Ramone   \n",
       "3  One Day / Reckoning Song (Wankelmut Remix) [Ra...  Asaf Avidan & the Mojos   \n",
       "4            What A Wonderful World - Single Version          Louis Armstrong   \n",
       "\n",
       "                                    uri  danceability  energy  key  loudness  \\\n",
       "0  spotify:track:1SJ4ycWow4yz6z4oFz8NAG         0.526   0.413    9    -7.674   \n",
       "1  spotify:track:25U7raB3ZSszayTYClh4hF         0.663   0.168    0   -13.725   \n",
       "2  spotify:track:04cdEVbQPb8BJb7593e5fO         0.422   0.878    5    -4.863   \n",
       "3  spotify:track:5HSkycOEtb9iQ7cg1Oyqmu         0.821   0.676    3    -6.366   \n",
       "4  spotify:track:2pp3RfqX5cb1BAnmNi4Nej         0.388   0.327    5   -12.522   \n",
       "\n",
       "   mode  speechiness  acousticness  instrumentalness  liveness  valence  \\\n",
       "0     1       0.0278       0.42800          0.000000    0.1260    0.211   \n",
       "1     1       0.0448       0.92800          0.000057    0.3610    0.678   \n",
       "2     1       0.0442       0.00935          0.332000    0.2010    0.496   \n",
       "3     0       0.0547       0.18700          0.000100    0.0927    0.559   \n",
       "4     1       0.0317       0.73200          0.001030    0.1500    0.222   \n",
       "\n",
       "     tempo  new_cluster  \n",
       "0  115.936            1  \n",
       "1   85.005            1  \n",
       "2   84.044            6  \n",
       "3  119.012            3  \n",
       "4  107.894            1  "
      ]
     },
     "execution_count": 61,
     "metadata": {},
     "output_type": "execute_result"
    }
   ],
   "source": [
    "df_songs.head()"
   ]
  },
  {
   "cell_type": "code",
   "execution_count": 62,
   "id": "51df6792",
   "metadata": {},
   "outputs": [
    {
     "data": {
      "text/plain": [
       "6    247\n",
       "3    162\n",
       "1    153\n",
       "0    110\n",
       "5     66\n",
       "4     40\n",
       "2     37\n",
       "Name: new_cluster, dtype: int64"
      ]
     },
     "execution_count": 62,
     "metadata": {},
     "output_type": "execute_result"
    }
   ],
   "source": [
    "df_songs['new_cluster'].value_counts()"
   ]
  },
  {
   "cell_type": "code",
   "execution_count": null,
   "id": "f90e9963",
   "metadata": {},
   "outputs": [],
   "source": [
    "df_songs.isna().sum().sum()"
   ]
  },
  {
   "cell_type": "code",
   "execution_count": null,
   "id": "d86610b8",
   "metadata": {},
   "outputs": [],
   "source": [
    "df_songs.describe().T"
   ]
  },
  {
   "cell_type": "code",
   "execution_count": null,
   "id": "6a2369ed",
   "metadata": {},
   "outputs": [],
   "source": []
  },
  {
   "cell_type": "code",
   "execution_count": 110,
   "id": "ebfaba1f",
   "metadata": {},
   "outputs": [
    {
     "data": {
      "text/html": [
       "<div>\n",
       "<style scoped>\n",
       "    .dataframe tbody tr th:only-of-type {\n",
       "        vertical-align: middle;\n",
       "    }\n",
       "\n",
       "    .dataframe tbody tr th {\n",
       "        vertical-align: top;\n",
       "    }\n",
       "\n",
       "    .dataframe thead th {\n",
       "        text-align: right;\n",
       "    }\n",
       "</style>\n",
       "<table border=\"1\" class=\"dataframe\">\n",
       "  <thead>\n",
       "    <tr style=\"text-align: right;\">\n",
       "      <th></th>\n",
       "      <th>count</th>\n",
       "      <th>mean</th>\n",
       "      <th>std</th>\n",
       "      <th>min</th>\n",
       "      <th>25%</th>\n",
       "      <th>50%</th>\n",
       "      <th>75%</th>\n",
       "      <th>max</th>\n",
       "    </tr>\n",
       "  </thead>\n",
       "  <tbody>\n",
       "    <tr>\n",
       "      <th>0</th>\n",
       "      <td>815.0</td>\n",
       "      <td>-1.919392e-16</td>\n",
       "      <td>1.000614</td>\n",
       "      <td>-3.106042</td>\n",
       "      <td>-0.650700</td>\n",
       "      <td>0.040991</td>\n",
       "      <td>0.735899</td>\n",
       "      <td>2.518210</td>\n",
       "    </tr>\n",
       "    <tr>\n",
       "      <th>1</th>\n",
       "      <td>815.0</td>\n",
       "      <td>2.702848e-16</td>\n",
       "      <td>1.000614</td>\n",
       "      <td>-2.604055</td>\n",
       "      <td>-0.714253</td>\n",
       "      <td>0.124557</td>\n",
       "      <td>0.866332</td>\n",
       "      <td>1.547730</td>\n",
       "    </tr>\n",
       "    <tr>\n",
       "      <th>2</th>\n",
       "      <td>815.0</td>\n",
       "      <td>1.280503e-16</td>\n",
       "      <td>1.000614</td>\n",
       "      <td>-1.448745</td>\n",
       "      <td>-0.877932</td>\n",
       "      <td>-0.021712</td>\n",
       "      <td>0.834508</td>\n",
       "      <td>1.690728</td>\n",
       "    </tr>\n",
       "    <tr>\n",
       "      <th>3</th>\n",
       "      <td>815.0</td>\n",
       "      <td>-2.383233e-16</td>\n",
       "      <td>1.000614</td>\n",
       "      <td>-4.223726</td>\n",
       "      <td>-0.583713</td>\n",
       "      <td>0.229717</td>\n",
       "      <td>0.741753</td>\n",
       "      <td>1.889756</td>\n",
       "    </tr>\n",
       "    <tr>\n",
       "      <th>4</th>\n",
       "      <td>815.0</td>\n",
       "      <td>1.155177e-16</td>\n",
       "      <td>1.000614</td>\n",
       "      <td>-1.465168</td>\n",
       "      <td>-1.465168</td>\n",
       "      <td>0.682515</td>\n",
       "      <td>0.682515</td>\n",
       "      <td>0.682515</td>\n",
       "    </tr>\n",
       "    <tr>\n",
       "      <th>5</th>\n",
       "      <td>815.0</td>\n",
       "      <td>1.404466e-16</td>\n",
       "      <td>1.000614</td>\n",
       "      <td>-0.666243</td>\n",
       "      <td>-0.517184</td>\n",
       "      <td>-0.346042</td>\n",
       "      <td>0.029365</td>\n",
       "      <td>8.179746</td>\n",
       "    </tr>\n",
       "    <tr>\n",
       "      <th>6</th>\n",
       "      <td>815.0</td>\n",
       "      <td>-5.626038e-17</td>\n",
       "      <td>1.000614</td>\n",
       "      <td>-0.892210</td>\n",
       "      <td>-0.834471</td>\n",
       "      <td>-0.465030</td>\n",
       "      <td>0.662772</td>\n",
       "      <td>2.470672</td>\n",
       "    </tr>\n",
       "    <tr>\n",
       "      <th>7</th>\n",
       "      <td>815.0</td>\n",
       "      <td>-1.460318e-16</td>\n",
       "      <td>1.000614</td>\n",
       "      <td>-0.303795</td>\n",
       "      <td>-0.303795</td>\n",
       "      <td>-0.303748</td>\n",
       "      <td>-0.295234</td>\n",
       "      <td>4.956938</td>\n",
       "    </tr>\n",
       "    <tr>\n",
       "      <th>8</th>\n",
       "      <td>815.0</td>\n",
       "      <td>1.560613e-16</td>\n",
       "      <td>1.000614</td>\n",
       "      <td>-1.042570</td>\n",
       "      <td>-0.593436</td>\n",
       "      <td>-0.408207</td>\n",
       "      <td>0.301115</td>\n",
       "      <td>4.845111</td>\n",
       "    </tr>\n",
       "    <tr>\n",
       "      <th>9</th>\n",
       "      <td>815.0</td>\n",
       "      <td>4.658850e-17</td>\n",
       "      <td>1.000614</td>\n",
       "      <td>-1.869157</td>\n",
       "      <td>-0.788491</td>\n",
       "      <td>-0.014571</td>\n",
       "      <td>0.848027</td>\n",
       "      <td>1.908136</td>\n",
       "    </tr>\n",
       "    <tr>\n",
       "      <th>10</th>\n",
       "      <td>815.0</td>\n",
       "      <td>-4.030007e-16</td>\n",
       "      <td>1.000614</td>\n",
       "      <td>-2.161971</td>\n",
       "      <td>-0.734993</td>\n",
       "      <td>-0.025927</td>\n",
       "      <td>0.558829</td>\n",
       "      <td>2.975596</td>\n",
       "    </tr>\n",
       "  </tbody>\n",
       "</table>\n",
       "</div>"
      ],
      "text/plain": [
       "    count          mean       std       min       25%       50%       75%  \\\n",
       "0   815.0 -1.919392e-16  1.000614 -3.106042 -0.650700  0.040991  0.735899   \n",
       "1   815.0  2.702848e-16  1.000614 -2.604055 -0.714253  0.124557  0.866332   \n",
       "2   815.0  1.280503e-16  1.000614 -1.448745 -0.877932 -0.021712  0.834508   \n",
       "3   815.0 -2.383233e-16  1.000614 -4.223726 -0.583713  0.229717  0.741753   \n",
       "4   815.0  1.155177e-16  1.000614 -1.465168 -1.465168  0.682515  0.682515   \n",
       "5   815.0  1.404466e-16  1.000614 -0.666243 -0.517184 -0.346042  0.029365   \n",
       "6   815.0 -5.626038e-17  1.000614 -0.892210 -0.834471 -0.465030  0.662772   \n",
       "7   815.0 -1.460318e-16  1.000614 -0.303795 -0.303795 -0.303748 -0.295234   \n",
       "8   815.0  1.560613e-16  1.000614 -1.042570 -0.593436 -0.408207  0.301115   \n",
       "9   815.0  4.658850e-17  1.000614 -1.869157 -0.788491 -0.014571  0.848027   \n",
       "10  815.0 -4.030007e-16  1.000614 -2.161971 -0.734993 -0.025927  0.558829   \n",
       "\n",
       "         max  \n",
       "0   2.518210  \n",
       "1   1.547730  \n",
       "2   1.690728  \n",
       "3   1.889756  \n",
       "4   0.682515  \n",
       "5   8.179746  \n",
       "6   2.470672  \n",
       "7   4.956938  \n",
       "8   4.845111  \n",
       "9   1.908136  \n",
       "10  2.975596  "
      ]
     },
     "execution_count": 110,
     "metadata": {},
     "output_type": "execute_result"
    }
   ],
   "source": [
    "pd.DataFrame(scaled_data).describe().T"
   ]
  },
  {
   "cell_type": "markdown",
   "id": "a8e7e5d2",
   "metadata": {},
   "source": [
    "### PCA"
   ]
  },
  {
   "cell_type": "code",
   "execution_count": 112,
   "id": "c7438aac",
   "metadata": {},
   "outputs": [],
   "source": [
    "from sklearn.decomposition import PCA"
   ]
  },
  {
   "cell_type": "code",
   "execution_count": 113,
   "id": "77c9806c",
   "metadata": {},
   "outputs": [
    {
     "data": {
      "text/plain": [
       "PCA()"
      ]
     },
     "execution_count": 113,
     "metadata": {},
     "output_type": "execute_result"
    }
   ],
   "source": [
    "pca = PCA()\n",
    "pca.fit(scaled_data)"
   ]
  },
  {
   "cell_type": "code",
   "execution_count": 114,
   "id": "7f726c09",
   "metadata": {},
   "outputs": [
    {
     "data": {
      "text/plain": [
       "array([0.25, 0.13, 0.11, 0.1 , 0.09, 0.09, 0.08, 0.07, 0.04, 0.04, 0.01])"
      ]
     },
     "execution_count": 114,
     "metadata": {},
     "output_type": "execute_result"
    }
   ],
   "source": [
    "pca.explained_variance_ratio_.round(2)"
   ]
  },
  {
   "cell_type": "code",
   "execution_count": 115,
   "id": "1aea9c07",
   "metadata": {},
   "outputs": [
    {
     "data": {
      "image/png": "[encoded data removed]",
      "text/plain": [
       "<Figure size 432x288 with 1 Axes>"
      ]
     },
     "metadata": {
      "needs_background": "light"
     },
     "output_type": "display_data"
    }
   ],
   "source": [
    "import numpy as np\n",
    "exp_var_pca = pca.explained_variance_ratio_\n",
    "\n",
    "# Cumulative sum of eigenvalues; This will be used to create step plot\n",
    "# for visualizing the variance explained by each principal component.\n",
    "\n",
    "cum_sum_eigenvalues = np.cumsum(exp_var_pca)\n",
    "#cum_sum_eigenvalues\n",
    "\n",
    "# Create the visualization plot\n",
    "plt.bar(range(0,len(exp_var_pca)), exp_var_pca, \n",
    "        alpha=0.5, align='center', label='Individual explained variance')\n",
    "plt.step(range(0,len(cum_sum_eigenvalues)), cum_sum_eigenvalues, \n",
    "         where='mid',label='Cumulative explained variance')\n",
    "plt.ylabel('Explained variance ratio')\n",
    "plt.xlabel('Principal component index')\n",
    "plt.legend(loc='best')\n",
    "plt.tight_layout()\n",
    "plt.show()"
   ]
  },
  {
   "cell_type": "code",
   "execution_count": 116,
   "id": "344d5c88",
   "metadata": {},
   "outputs": [
    {
     "data": {
      "text/plain": [
       "0.9999999999999999"
      ]
     },
     "execution_count": 116,
     "metadata": {},
     "output_type": "execute_result"
    }
   ],
   "source": [
    "pca.explained_variance_ratio_[:14].sum()"
   ]
  },
  {
   "cell_type": "code",
   "execution_count": 117,
   "id": "fbe8789c",
   "metadata": {},
   "outputs": [
    {
     "data": {
      "text/plain": [
       "0.8350130420303682"
      ]
     },
     "execution_count": 117,
     "metadata": {},
     "output_type": "execute_result"
    }
   ],
   "source": [
    "pca.explained_variance_ratio_[:7].sum()"
   ]
  },
  {
   "cell_type": "code",
   "execution_count": 119,
   "id": "b97a6cfd",
   "metadata": {},
   "outputs": [
    {
     "data": {
      "text/plain": [
       "PCA(n_components=7)"
      ]
     },
     "execution_count": 119,
     "metadata": {},
     "output_type": "execute_result"
    }
   ],
   "source": [
    "pca = PCA(7)\n",
    "pca.fit(scaled_data)"
   ]
  },
  {
   "cell_type": "code",
   "execution_count": 120,
   "id": "f6774a45",
   "metadata": {},
   "outputs": [
    {
     "data": {
      "text/plain": [
       "0.8350130420303689"
      ]
     },
     "execution_count": 120,
     "metadata": {},
     "output_type": "execute_result"
    }
   ],
   "source": [
    "pca.explained_variance_ratio_.sum()"
   ]
  },
  {
   "cell_type": "markdown",
   "id": "494d7cfd",
   "metadata": {},
   "source": [
    "### Audio features"
   ]
  },
  {
   "cell_type": "code",
   "execution_count": 64,
   "id": "5f8111f3",
   "metadata": {},
   "outputs": [],
   "source": [
    "# here we look only at the first page\n",
    "playlist = sp.user_playlist_tracks(\"spotify\", \"0BUNSGihi2mrhQu3fPcVim\")"
   ]
  },
  {
   "cell_type": "code",
   "execution_count": 65,
   "id": "0b8dfff0",
   "metadata": {},
   "outputs": [
    {
     "data": {
      "text/plain": [
       "'Role of A Lifetime'"
      ]
     },
     "execution_count": 65,
     "metadata": {},
     "output_type": "execute_result"
    }
   ],
   "source": [
    "playlist[\"items\"][33][\"track\"][\"name\"]"
   ]
  },
  {
   "cell_type": "code",
   "execution_count": 66,
   "id": "496ab2c9",
   "metadata": {},
   "outputs": [],
   "source": [
    "# get the uri of a single song:\n",
    "song_uri = playlist[\"items\"][33][\"track\"][\"uri\"]"
   ]
  },
  {
   "cell_type": "code",
   "execution_count": 67,
   "id": "8be0f402",
   "metadata": {},
   "outputs": [
    {
     "data": {
      "text/plain": [
       "[{'danceability': 0.469,\n",
       "  'energy': 0.212,\n",
       "  'key': 2,\n",
       "  'loudness': -12.13,\n",
       "  'mode': 0,\n",
       "  'speechiness': 0.0341,\n",
       "  'acousticness': 0.652,\n",
       "  'instrumentalness': 0.00113,\n",
       "  'liveness': 0.104,\n",
       "  'valence': 0.147,\n",
       "  'tempo': 144.243,\n",
       "  'type': 'audio_features',\n",
       "  'id': '7DdkL7YtSRFZotD4qZloRG',\n",
       "  'uri': 'spotify:track:7DdkL7YtSRFZotD4qZloRG',\n",
       "  'track_href': 'https://api.spotify.com/v1/tracks/7DdkL7YtSRFZotD4qZloRG',\n",
       "  'analysis_url': 'https://api.spotify.com/v1/audio-analysis/7DdkL7YtSRFZotD4qZloRG',\n",
       "  'duration_ms': 213020,\n",
       "  'time_signature': 3}]"
      ]
     },
     "execution_count": 67,
     "metadata": {},
     "output_type": "execute_result"
    }
   ],
   "source": [
    "# get the audio features for that song\n",
    "sp.audio_features(song_uri)"
   ]
  },
  {
   "cell_type": "code",
   "execution_count": 68,
   "id": "e474fbd7",
   "metadata": {},
   "outputs": [],
   "source": [
    "# get the uri of a single song:\n",
    "song_uri = playlist[\"items\"][46][\"track\"][\"uri\"]"
   ]
  },
  {
   "cell_type": "code",
   "execution_count": 69,
   "id": "73fe934e",
   "metadata": {},
   "outputs": [
    {
     "data": {
      "text/plain": [
       "[{'danceability': 0.695,\n",
       "  'energy': 0.869,\n",
       "  'key': 8,\n",
       "  'loudness': -5.066,\n",
       "  'mode': 1,\n",
       "  'speechiness': 0.0483,\n",
       "  'acousticness': 0.41,\n",
       "  'instrumentalness': 0,\n",
       "  'liveness': 0.237,\n",
       "  'valence': 0.58,\n",
       "  'tempo': 124.989,\n",
       "  'type': 'audio_features',\n",
       "  'id': '05SBRd4fXgn8FX7bf8BCAE',\n",
       "  'uri': 'spotify:track:05SBRd4fXgn8FX7bf8BCAE',\n",
       "  'track_href': 'https://api.spotify.com/v1/tracks/05SBRd4fXgn8FX7bf8BCAE',\n",
       "  'analysis_url': 'https://api.spotify.com/v1/audio-analysis/05SBRd4fXgn8FX7bf8BCAE',\n",
       "  'duration_ms': 234507,\n",
       "  'time_signature': 4}]"
      ]
     },
     "execution_count": 69,
     "metadata": {},
     "output_type": "execute_result"
    }
   ],
   "source": [
    "# get the audio features for that song\n",
    "sp.audio_features(song_uri)"
   ]
  },
  {
   "cell_type": "code",
   "execution_count": 70,
   "id": "619ea444",
   "metadata": {},
   "outputs": [],
   "source": [
    "def uris(all_tracks):\n",
    "    uris = [all_tracks[i]['track']['uri'] for i in range(len(all_tracks))]\n",
    "    return uris\n",
    "uris = uris(all_tracks)"
   ]
  },
  {
   "cell_type": "code",
   "execution_count": 72,
   "id": "4c3522aa",
   "metadata": {},
   "outputs": [],
   "source": [
    "def all_artists(all_tracks):\n",
    "    artist = [all_tracks[i]['track']['artists'][0]['name'] for i in range(len(all_tracks))]\n",
    "    return artist"
   ]
  },
  {
   "cell_type": "code",
   "execution_count": null,
   "id": "a61ba614",
   "metadata": {},
   "outputs": [],
   "source": []
  },
  {
   "cell_type": "code",
   "execution_count": null,
   "id": "5b037044",
   "metadata": {},
   "outputs": [],
   "source": []
  },
  {
   "cell_type": "code",
   "execution_count": null,
   "id": "5c169d7d",
   "metadata": {},
   "outputs": [],
   "source": []
  },
  {
   "cell_type": "code",
   "execution_count": null,
   "id": "b7b29cc1",
   "metadata": {},
   "outputs": [],
   "source": []
  },
  {
   "cell_type": "code",
   "execution_count": null,
   "id": "b5ebe290",
   "metadata": {},
   "outputs": [],
   "source": []
  },
  {
   "cell_type": "code",
   "execution_count": null,
   "id": "f3205497",
   "metadata": {},
   "outputs": [],
   "source": []
  },
  {
   "cell_type": "code",
   "execution_count": null,
   "id": "2808f563",
   "metadata": {},
   "outputs": [],
   "source": []
  }
 ],
 "metadata": {
  "kernelspec": {
   "display_name": "Python 3",
   "language": "python",
   "name": "python3"
  },
  "language_info": {
   "codemirror_mode": {
    "name": "ipython",
    "version": 3
   },
   "file_extension": ".py",
   "mimetype": "text/x-python",
   "name": "python",
   "nbconvert_exporter": "python",
   "pygments_lexer": "ipython3",
   "version": "3.8.8"
  }
 },
 "nbformat": 4,
 "nbformat_minor": 5
}
